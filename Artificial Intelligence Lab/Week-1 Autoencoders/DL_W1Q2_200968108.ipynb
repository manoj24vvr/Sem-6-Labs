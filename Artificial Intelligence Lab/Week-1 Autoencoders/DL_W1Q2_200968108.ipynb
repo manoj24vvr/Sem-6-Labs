{
  "nbformat": 4,
  "nbformat_minor": 0,
  "metadata": {
    "colab": {
      "provenance": []
    },
    "kernelspec": {
      "name": "python3",
      "display_name": "Python 3"
    },
    "language_info": {
      "name": "python"
    }
  },
  "cells": [
    {
      "cell_type": "markdown",
      "source": [
        "## **200968108 Sec-A 27**\n",
        "## **Week-1** Representational Learning using Autoencoders."
      ],
      "metadata": {
        "id": "sMK1T-ZFBv7M"
      }
    },
    {
      "cell_type": "code",
      "execution_count": 1,
      "metadata": {
        "id": "Wk-O78DsBgv8"
      },
      "outputs": [],
      "source": [
        "#Importing required libraries\n",
        "\n",
        "import matplotlib.pyplot as plt\n",
        "import numpy as np\n",
        "import pandas as pd\n",
        "import tensorflow as tf\n",
        "from sklearn.model_selection import train_test_split"
      ]
    },
    {
      "cell_type": "markdown",
      "source": [
        "## **2.Train an autoencoder to detect anomalies usingthe ECG5000 dataset.**\n",
        "* Plot and observe a normal ECG vs an anomalous ECG.\n",
        "\n",
        "* Design  and Train  an  autoencoder  on  the  normal  rhythms  only,  then  use  it  to reconstruct all the data.\n",
        "\n",
        "* The autoencoder is trained using only the normal ECGs, but is evaluated using the full test set. \n",
        "\n",
        "* Classify an ECG as anomalous if the reconstruction error is greater than one standard deviation from the normal training examples.  "
      ],
      "metadata": {
        "id": "xP1jepl8EmFN"
      }
    },
    {
      "cell_type": "code",
      "source": [
        "# Loading the dataset\n",
        "\n",
        "dataframe = pd.read_csv('http://storage.googleapis.com/download.tensorflow.org/data/ecg.csv', header=None)\n",
        "raw_data = dataframe.values\n",
        "dataframe.head()"
      ],
      "metadata": {
        "colab": {
          "base_uri": "https://localhost:8080/",
          "height": 235
        },
        "id": "MCiNOpamEhk4",
        "outputId": "4c17ff58-66d4-4096-ad17-f33e56c23d44"
      },
      "execution_count": 2,
      "outputs": [
        {
          "output_type": "execute_result",
          "data": {
            "text/plain": [
              "        0         1         2         3         4         5         6    \\\n",
              "0 -0.112522 -2.827204 -3.773897 -4.349751 -4.376041 -3.474986 -2.181408   \n",
              "1 -1.100878 -3.996840 -4.285843 -4.506579 -4.022377 -3.234368 -1.566126   \n",
              "2 -0.567088 -2.593450 -3.874230 -4.584095 -4.187449 -3.151462 -1.742940   \n",
              "3  0.490473 -1.914407 -3.616364 -4.318823 -4.268016 -3.881110 -2.993280   \n",
              "4  0.800232 -0.874252 -2.384761 -3.973292 -4.338224 -3.802422 -2.534510   \n",
              "\n",
              "        7         8         9    ...       131       132       133       134  \\\n",
              "0 -1.818286 -1.250522 -0.477492  ...  0.792168  0.933541  0.796958  0.578621   \n",
              "1 -0.992258 -0.754680  0.042321  ...  0.538356  0.656881  0.787490  0.724046   \n",
              "2 -1.490659 -1.183580 -0.394229  ...  0.886073  0.531452  0.311377 -0.021919   \n",
              "3 -1.671131 -1.333884 -0.965629  ...  0.350816  0.499111  0.600345  0.842069   \n",
              "4 -1.783423 -1.594450 -0.753199  ...  1.148884  0.958434  1.059025  1.371682   \n",
              "\n",
              "        135       136       137       138       139  140  \n",
              "0  0.257740  0.228077  0.123431  0.925286  0.193137  1.0  \n",
              "1  0.555784  0.476333  0.773820  1.119621 -1.436250  1.0  \n",
              "2 -0.713683 -0.532197  0.321097  0.904227 -0.421797  1.0  \n",
              "3  0.952074  0.990133  1.086798  1.403011 -0.383564  1.0  \n",
              "4  1.277392  0.960304  0.971020  1.614392  1.421456  1.0  \n",
              "\n",
              "[5 rows x 141 columns]"
            ],
            "text/html": [
              "\n",
              "  <div id=\"df-33b86a8f-3ac7-4690-b333-742022ba77e7\">\n",
              "    <div class=\"colab-df-container\">\n",
              "      <div>\n",
              "<style scoped>\n",
              "    .dataframe tbody tr th:only-of-type {\n",
              "        vertical-align: middle;\n",
              "    }\n",
              "\n",
              "    .dataframe tbody tr th {\n",
              "        vertical-align: top;\n",
              "    }\n",
              "\n",
              "    .dataframe thead th {\n",
              "        text-align: right;\n",
              "    }\n",
              "</style>\n",
              "<table border=\"1\" class=\"dataframe\">\n",
              "  <thead>\n",
              "    <tr style=\"text-align: right;\">\n",
              "      <th></th>\n",
              "      <th>0</th>\n",
              "      <th>1</th>\n",
              "      <th>2</th>\n",
              "      <th>3</th>\n",
              "      <th>4</th>\n",
              "      <th>5</th>\n",
              "      <th>6</th>\n",
              "      <th>7</th>\n",
              "      <th>8</th>\n",
              "      <th>9</th>\n",
              "      <th>...</th>\n",
              "      <th>131</th>\n",
              "      <th>132</th>\n",
              "      <th>133</th>\n",
              "      <th>134</th>\n",
              "      <th>135</th>\n",
              "      <th>136</th>\n",
              "      <th>137</th>\n",
              "      <th>138</th>\n",
              "      <th>139</th>\n",
              "      <th>140</th>\n",
              "    </tr>\n",
              "  </thead>\n",
              "  <tbody>\n",
              "    <tr>\n",
              "      <th>0</th>\n",
              "      <td>-0.112522</td>\n",
              "      <td>-2.827204</td>\n",
              "      <td>-3.773897</td>\n",
              "      <td>-4.349751</td>\n",
              "      <td>-4.376041</td>\n",
              "      <td>-3.474986</td>\n",
              "      <td>-2.181408</td>\n",
              "      <td>-1.818286</td>\n",
              "      <td>-1.250522</td>\n",
              "      <td>-0.477492</td>\n",
              "      <td>...</td>\n",
              "      <td>0.792168</td>\n",
              "      <td>0.933541</td>\n",
              "      <td>0.796958</td>\n",
              "      <td>0.578621</td>\n",
              "      <td>0.257740</td>\n",
              "      <td>0.228077</td>\n",
              "      <td>0.123431</td>\n",
              "      <td>0.925286</td>\n",
              "      <td>0.193137</td>\n",
              "      <td>1.0</td>\n",
              "    </tr>\n",
              "    <tr>\n",
              "      <th>1</th>\n",
              "      <td>-1.100878</td>\n",
              "      <td>-3.996840</td>\n",
              "      <td>-4.285843</td>\n",
              "      <td>-4.506579</td>\n",
              "      <td>-4.022377</td>\n",
              "      <td>-3.234368</td>\n",
              "      <td>-1.566126</td>\n",
              "      <td>-0.992258</td>\n",
              "      <td>-0.754680</td>\n",
              "      <td>0.042321</td>\n",
              "      <td>...</td>\n",
              "      <td>0.538356</td>\n",
              "      <td>0.656881</td>\n",
              "      <td>0.787490</td>\n",
              "      <td>0.724046</td>\n",
              "      <td>0.555784</td>\n",
              "      <td>0.476333</td>\n",
              "      <td>0.773820</td>\n",
              "      <td>1.119621</td>\n",
              "      <td>-1.436250</td>\n",
              "      <td>1.0</td>\n",
              "    </tr>\n",
              "    <tr>\n",
              "      <th>2</th>\n",
              "      <td>-0.567088</td>\n",
              "      <td>-2.593450</td>\n",
              "      <td>-3.874230</td>\n",
              "      <td>-4.584095</td>\n",
              "      <td>-4.187449</td>\n",
              "      <td>-3.151462</td>\n",
              "      <td>-1.742940</td>\n",
              "      <td>-1.490659</td>\n",
              "      <td>-1.183580</td>\n",
              "      <td>-0.394229</td>\n",
              "      <td>...</td>\n",
              "      <td>0.886073</td>\n",
              "      <td>0.531452</td>\n",
              "      <td>0.311377</td>\n",
              "      <td>-0.021919</td>\n",
              "      <td>-0.713683</td>\n",
              "      <td>-0.532197</td>\n",
              "      <td>0.321097</td>\n",
              "      <td>0.904227</td>\n",
              "      <td>-0.421797</td>\n",
              "      <td>1.0</td>\n",
              "    </tr>\n",
              "    <tr>\n",
              "      <th>3</th>\n",
              "      <td>0.490473</td>\n",
              "      <td>-1.914407</td>\n",
              "      <td>-3.616364</td>\n",
              "      <td>-4.318823</td>\n",
              "      <td>-4.268016</td>\n",
              "      <td>-3.881110</td>\n",
              "      <td>-2.993280</td>\n",
              "      <td>-1.671131</td>\n",
              "      <td>-1.333884</td>\n",
              "      <td>-0.965629</td>\n",
              "      <td>...</td>\n",
              "      <td>0.350816</td>\n",
              "      <td>0.499111</td>\n",
              "      <td>0.600345</td>\n",
              "      <td>0.842069</td>\n",
              "      <td>0.952074</td>\n",
              "      <td>0.990133</td>\n",
              "      <td>1.086798</td>\n",
              "      <td>1.403011</td>\n",
              "      <td>-0.383564</td>\n",
              "      <td>1.0</td>\n",
              "    </tr>\n",
              "    <tr>\n",
              "      <th>4</th>\n",
              "      <td>0.800232</td>\n",
              "      <td>-0.874252</td>\n",
              "      <td>-2.384761</td>\n",
              "      <td>-3.973292</td>\n",
              "      <td>-4.338224</td>\n",
              "      <td>-3.802422</td>\n",
              "      <td>-2.534510</td>\n",
              "      <td>-1.783423</td>\n",
              "      <td>-1.594450</td>\n",
              "      <td>-0.753199</td>\n",
              "      <td>...</td>\n",
              "      <td>1.148884</td>\n",
              "      <td>0.958434</td>\n",
              "      <td>1.059025</td>\n",
              "      <td>1.371682</td>\n",
              "      <td>1.277392</td>\n",
              "      <td>0.960304</td>\n",
              "      <td>0.971020</td>\n",
              "      <td>1.614392</td>\n",
              "      <td>1.421456</td>\n",
              "      <td>1.0</td>\n",
              "    </tr>\n",
              "  </tbody>\n",
              "</table>\n",
              "<p>5 rows × 141 columns</p>\n",
              "</div>\n",
              "      <button class=\"colab-df-convert\" onclick=\"convertToInteractive('df-33b86a8f-3ac7-4690-b333-742022ba77e7')\"\n",
              "              title=\"Convert this dataframe to an interactive table.\"\n",
              "              style=\"display:none;\">\n",
              "        \n",
              "  <svg xmlns=\"http://www.w3.org/2000/svg\" height=\"24px\"viewBox=\"0 0 24 24\"\n",
              "       width=\"24px\">\n",
              "    <path d=\"M0 0h24v24H0V0z\" fill=\"none\"/>\n",
              "    <path d=\"M18.56 5.44l.94 2.06.94-2.06 2.06-.94-2.06-.94-.94-2.06-.94 2.06-2.06.94zm-11 1L8.5 8.5l.94-2.06 2.06-.94-2.06-.94L8.5 2.5l-.94 2.06-2.06.94zm10 10l.94 2.06.94-2.06 2.06-.94-2.06-.94-.94-2.06-.94 2.06-2.06.94z\"/><path d=\"M17.41 7.96l-1.37-1.37c-.4-.4-.92-.59-1.43-.59-.52 0-1.04.2-1.43.59L10.3 9.45l-7.72 7.72c-.78.78-.78 2.05 0 2.83L4 21.41c.39.39.9.59 1.41.59.51 0 1.02-.2 1.41-.59l7.78-7.78 2.81-2.81c.8-.78.8-2.07 0-2.86zM5.41 20L4 18.59l7.72-7.72 1.47 1.35L5.41 20z\"/>\n",
              "  </svg>\n",
              "      </button>\n",
              "      \n",
              "  <style>\n",
              "    .colab-df-container {\n",
              "      display:flex;\n",
              "      flex-wrap:wrap;\n",
              "      gap: 12px;\n",
              "    }\n",
              "\n",
              "    .colab-df-convert {\n",
              "      background-color: #E8F0FE;\n",
              "      border: none;\n",
              "      border-radius: 50%;\n",
              "      cursor: pointer;\n",
              "      display: none;\n",
              "      fill: #1967D2;\n",
              "      height: 32px;\n",
              "      padding: 0 0 0 0;\n",
              "      width: 32px;\n",
              "    }\n",
              "\n",
              "    .colab-df-convert:hover {\n",
              "      background-color: #E2EBFA;\n",
              "      box-shadow: 0px 1px 2px rgba(60, 64, 67, 0.3), 0px 1px 3px 1px rgba(60, 64, 67, 0.15);\n",
              "      fill: #174EA6;\n",
              "    }\n",
              "\n",
              "    [theme=dark] .colab-df-convert {\n",
              "      background-color: #3B4455;\n",
              "      fill: #D2E3FC;\n",
              "    }\n",
              "\n",
              "    [theme=dark] .colab-df-convert:hover {\n",
              "      background-color: #434B5C;\n",
              "      box-shadow: 0px 1px 3px 1px rgba(0, 0, 0, 0.15);\n",
              "      filter: drop-shadow(0px 1px 2px rgba(0, 0, 0, 0.3));\n",
              "      fill: #FFFFFF;\n",
              "    }\n",
              "  </style>\n",
              "\n",
              "      <script>\n",
              "        const buttonEl =\n",
              "          document.querySelector('#df-33b86a8f-3ac7-4690-b333-742022ba77e7 button.colab-df-convert');\n",
              "        buttonEl.style.display =\n",
              "          google.colab.kernel.accessAllowed ? 'block' : 'none';\n",
              "\n",
              "        async function convertToInteractive(key) {\n",
              "          const element = document.querySelector('#df-33b86a8f-3ac7-4690-b333-742022ba77e7');\n",
              "          const dataTable =\n",
              "            await google.colab.kernel.invokeFunction('convertToInteractive',\n",
              "                                                     [key], {});\n",
              "          if (!dataTable) return;\n",
              "\n",
              "          const docLinkHtml = 'Like what you see? Visit the ' +\n",
              "            '<a target=\"_blank\" href=https://colab.research.google.com/notebooks/data_table.ipynb>data table notebook</a>'\n",
              "            + ' to learn more about interactive tables.';\n",
              "          element.innerHTML = '';\n",
              "          dataTable['output_type'] = 'display_data';\n",
              "          await google.colab.output.renderOutput(dataTable, element);\n",
              "          const docLink = document.createElement('div');\n",
              "          docLink.innerHTML = docLinkHtml;\n",
              "          element.appendChild(docLink);\n",
              "        }\n",
              "      </script>\n",
              "    </div>\n",
              "  </div>\n",
              "  "
            ]
          },
          "metadata": {},
          "execution_count": 2
        }
      ]
    },
    {
      "cell_type": "code",
      "source": [
        "dataframe.info()"
      ],
      "metadata": {
        "colab": {
          "base_uri": "https://localhost:8080/"
        },
        "id": "QIz_6oYSJu_Y",
        "outputId": "2fd147a8-b3ed-4041-9a51-6bd968256ac4"
      },
      "execution_count": 3,
      "outputs": [
        {
          "output_type": "stream",
          "name": "stdout",
          "text": [
            "<class 'pandas.core.frame.DataFrame'>\n",
            "RangeIndex: 4998 entries, 0 to 4997\n",
            "Columns: 141 entries, 0 to 140\n",
            "dtypes: float64(141)\n",
            "memory usage: 5.4 MB\n"
          ]
        }
      ]
    },
    {
      "cell_type": "code",
      "source": [
        "# loading the labels into a variable\n",
        "labels = raw_data[:, -1]\n",
        "# other data points are the electrocadriogram data\n",
        "ECG_data = raw_data[:, 0:-1]"
      ],
      "metadata": {
        "id": "PpuRBwNaFES7"
      },
      "execution_count": 4,
      "outputs": []
    },
    {
      "cell_type": "markdown",
      "source": [
        "* Seperating train and test data, and normalizing them"
      ],
      "metadata": {
        "id": "LmEp58OGKKr2"
      }
    },
    {
      "cell_type": "code",
      "source": [
        "# seperating the data into train and test data\n",
        "x_train, x_test, y_train, y_test = train_test_split(ECG_data, labels, test_size=0.2, random_state=21)\n",
        "\n",
        "min_val = tf.reduce_min(x_train)\n",
        "max_val = tf.reduce_max(x_train)\n",
        "\n",
        "# Normalization\n",
        "train_data = (x_train - min_val) / (max_val - min_val)\n",
        "test_data = (x_test - min_val) / (max_val - min_val)"
      ],
      "metadata": {
        "id": "rAvxro-pIv6r"
      },
      "execution_count": 5,
      "outputs": []
    },
    {
      "cell_type": "markdown",
      "source": [
        "* Converting the labels into boolean\n",
        "* Seperating the normal and anomalous data\n"
      ],
      "metadata": {
        "id": "UPuysw_hKK0Z"
      }
    },
    {
      "cell_type": "code",
      "source": [
        "train_labels = y_train.astype(bool)\n",
        "test_labels = y_test.astype(bool)\n",
        "\n",
        "normal_train_data = train_data[train_labels]\n",
        "normal_test_data = test_data[test_labels]\n",
        "\n",
        "anomalous_train_data = train_data[~train_labels]\n",
        "anomalous_test_data = test_data[~test_labels]"
      ],
      "metadata": {
        "id": "cV5sYASbI7KV"
      },
      "execution_count": 6,
      "outputs": []
    },
    {
      "cell_type": "markdown",
      "source": [
        "### Plotting a Normal ECG"
      ],
      "metadata": {
        "id": "4eppUXLjKCTU"
      }
    },
    {
      "cell_type": "code",
      "source": [
        "plt.grid()\n",
        "plt.plot(np.arange(140), normal_train_data[20])\n",
        "plt.title(\"A Normal ECG\")\n",
        "plt.show()"
      ],
      "metadata": {
        "colab": {
          "base_uri": "https://localhost:8080/",
          "height": 281
        },
        "id": "qzs6BarVJ_D9",
        "outputId": "cbced939-650f-4ba5-a62c-58e374d8433c"
      },
      "execution_count": 7,
      "outputs": [
        {
          "output_type": "display_data",
          "data": {
            "text/plain": [
              "<Figure size 432x288 with 1 Axes>"
            ],
            "image/png": "[encoded data removed]"
          },
          "metadata": {
            "needs_background": "light"
          }
        }
      ]
    },
    {
      "cell_type": "markdown",
      "source": [
        "### Plotting an anomalous ECG"
      ],
      "metadata": {
        "id": "9vwjswF4Kz3i"
      }
    },
    {
      "cell_type": "code",
      "source": [
        "plt.grid()\n",
        "plt.plot(np.arange(140), anomalous_train_data[20])\n",
        "plt.title(\"An Anomalous ECG\")\n",
        "plt.show()"
      ],
      "metadata": {
        "colab": {
          "base_uri": "https://localhost:8080/",
          "height": 281
        },
        "id": "g6TTq-iPKv-V",
        "outputId": "70017b92-6fdc-41c6-c658-f886819a6d69"
      },
      "execution_count": 8,
      "outputs": [
        {
          "output_type": "display_data",
          "data": {
            "text/plain": [
              "<Figure size 432x288 with 1 Axes>"
            ],
            "image/png": "[encoded data removed]"
          },
          "metadata": {
            "needs_background": "light"
          }
        }
      ]
    },
    {
      "cell_type": "markdown",
      "source": [
        "### Building an autoencoder model for Anomaly Detection"
      ],
      "metadata": {
        "id": "NpKPIx3vLX4i"
      }
    },
    {
      "cell_type": "code",
      "source": [
        "from tensorflow.keras import layers, losses\n",
        "from tensorflow.keras.models import Model\n",
        "\n",
        "class detect_anomaly(Model):\n",
        "  def __init__(self):\n",
        "    super(detect_anomaly, self).__init__()\n",
        "    self.encoder = tf.keras.Sequential([\n",
        "      layers.Dense(32, activation=\"relu\"),\n",
        "      layers.Dense(16, activation=\"relu\"),\n",
        "      layers.Dense(8, activation=\"relu\")])\n",
        "    \n",
        "    self.decoder = tf.keras.Sequential([\n",
        "      layers.Dense(16, activation=\"relu\"),\n",
        "      layers.Dense(32, activation=\"relu\"),\n",
        "      layers.Dense(140, activation=\"sigmoid\")])\n",
        "    \n",
        "  def call(self, x):\n",
        "    encoded = self.encoder(x)\n",
        "    decoded = self.decoder(encoded)\n",
        "    return decoded\n",
        "\n",
        "model = detect_anomaly()\n",
        "model.compile(optimizer='adam', loss='mae')\n",
        "\n",
        "# using only normal rythms of ecg data to train the model\n",
        "history = model.fit(normal_train_data, normal_train_data, \n",
        "          epochs=100, \n",
        "          batch_size=512,\n",
        "          validation_data=(test_data, test_data),\n",
        "          shuffle=True)\n"
      ],
      "metadata": {
        "colab": {
          "base_uri": "https://localhost:8080/"
        },
        "id": "jE12lfgfK2nM",
        "outputId": "8daceb2a-d1d4-472b-9e36-df6c59e01818"
      },
      "execution_count": 20,
      "outputs": [
        {
          "output_type": "stream",
          "name": "stdout",
          "text": [
            "Epoch 1/100\n",
            "5/5 [==============================] - 2s 43ms/step - loss: 0.0576 - val_loss: 0.0536\n",
            "Epoch 2/100\n",
            "5/5 [==============================] - 0s 15ms/step - loss: 0.0554 - val_loss: 0.0522\n",
            "Epoch 3/100\n",
            "5/5 [==============================] - 0s 11ms/step - loss: 0.0524 - val_loss: 0.0502\n",
            "Epoch 4/100\n",
            "5/5 [==============================] - 0s 10ms/step - loss: 0.0489 - val_loss: 0.0476\n",
            "Epoch 5/100\n",
            "5/5 [==============================] - 0s 10ms/step - loss: 0.0453 - val_loss: 0.0454\n",
            "Epoch 6/100\n",
            "5/5 [==============================] - 0s 10ms/step - loss: 0.0414 - val_loss: 0.0434\n",
            "Epoch 7/100\n",
            "5/5 [==============================] - 0s 11ms/step - loss: 0.0375 - val_loss: 0.0414\n",
            "Epoch 8/100\n",
            "5/5 [==============================] - 0s 11ms/step - loss: 0.0340 - val_loss: 0.0399\n",
            "Epoch 9/100\n",
            "5/5 [==============================] - 0s 11ms/step - loss: 0.0311 - val_loss: 0.0386\n",
            "Epoch 10/100\n",
            "5/5 [==============================] - 0s 10ms/step - loss: 0.0291 - val_loss: 0.0375\n",
            "Epoch 11/100\n",
            "5/5 [==============================] - 0s 14ms/step - loss: 0.0276 - val_loss: 0.0363\n",
            "Epoch 12/100\n",
            "5/5 [==============================] - 0s 10ms/step - loss: 0.0263 - val_loss: 0.0356\n",
            "Epoch 13/100\n",
            "5/5 [==============================] - 0s 10ms/step - loss: 0.0252 - val_loss: 0.0350\n",
            "Epoch 14/100\n",
            "5/5 [==============================] - 0s 12ms/step - loss: 0.0244 - val_loss: 0.0343\n",
            "Epoch 15/100\n",
            "5/5 [==============================] - 0s 10ms/step - loss: 0.0236 - val_loss: 0.0335\n",
            "Epoch 16/100\n",
            "5/5 [==============================] - 0s 11ms/step - loss: 0.0228 - val_loss: 0.0329\n",
            "Epoch 17/100\n",
            "5/5 [==============================] - 0s 10ms/step - loss: 0.0220 - val_loss: 0.0323\n",
            "Epoch 18/100\n",
            "5/5 [==============================] - 0s 10ms/step - loss: 0.0213 - val_loss: 0.0318\n",
            "Epoch 19/100\n",
            "5/5 [==============================] - 0s 10ms/step - loss: 0.0206 - val_loss: 0.0314\n",
            "Epoch 20/100\n",
            "5/5 [==============================] - 0s 11ms/step - loss: 0.0201 - val_loss: 0.0312\n",
            "Epoch 21/100\n",
            "5/5 [==============================] - 0s 10ms/step - loss: 0.0198 - val_loss: 0.0308\n",
            "Epoch 22/100\n",
            "5/5 [==============================] - 0s 12ms/step - loss: 0.0195 - val_loss: 0.0305\n",
            "Epoch 23/100\n",
            "5/5 [==============================] - 0s 11ms/step - loss: 0.0193 - val_loss: 0.0302\n",
            "Epoch 24/100\n",
            "5/5 [==============================] - 0s 14ms/step - loss: 0.0190 - val_loss: 0.0300\n",
            "Epoch 25/100\n",
            "5/5 [==============================] - 0s 11ms/step - loss: 0.0189 - val_loss: 0.0296\n",
            "Epoch 26/100\n",
            "5/5 [==============================] - 0s 12ms/step - loss: 0.0187 - val_loss: 0.0295\n",
            "Epoch 27/100\n",
            "5/5 [==============================] - 0s 12ms/step - loss: 0.0186 - val_loss: 0.0294\n",
            "Epoch 28/100\n",
            "5/5 [==============================] - 0s 11ms/step - loss: 0.0185 - val_loss: 0.0294\n",
            "Epoch 29/100\n",
            "5/5 [==============================] - 0s 13ms/step - loss: 0.0183 - val_loss: 0.0291\n",
            "Epoch 30/100\n",
            "5/5 [==============================] - 0s 11ms/step - loss: 0.0181 - val_loss: 0.0290\n",
            "Epoch 31/100\n",
            "5/5 [==============================] - 0s 12ms/step - loss: 0.0179 - val_loss: 0.0289\n",
            "Epoch 32/100\n",
            "5/5 [==============================] - 0s 11ms/step - loss: 0.0178 - val_loss: 0.0290\n",
            "Epoch 33/100\n",
            "5/5 [==============================] - 0s 14ms/step - loss: 0.0176 - val_loss: 0.0289\n",
            "Epoch 34/100\n",
            "5/5 [==============================] - 0s 15ms/step - loss: 0.0175 - val_loss: 0.0290\n",
            "Epoch 35/100\n",
            "5/5 [==============================] - 0s 13ms/step - loss: 0.0173 - val_loss: 0.0289\n",
            "Epoch 36/100\n",
            "5/5 [==============================] - 0s 11ms/step - loss: 0.0172 - val_loss: 0.0289\n",
            "Epoch 37/100\n",
            "5/5 [==============================] - 0s 11ms/step - loss: 0.0171 - val_loss: 0.0290\n",
            "Epoch 38/100\n",
            "5/5 [==============================] - 0s 11ms/step - loss: 0.0170 - val_loss: 0.0291\n",
            "Epoch 39/100\n",
            "5/5 [==============================] - 0s 11ms/step - loss: 0.0169 - val_loss: 0.0291\n",
            "Epoch 40/100\n",
            "5/5 [==============================] - 0s 10ms/step - loss: 0.0168 - val_loss: 0.0290\n",
            "Epoch 41/100\n",
            "5/5 [==============================] - 0s 11ms/step - loss: 0.0167 - val_loss: 0.0290\n",
            "Epoch 42/100\n",
            "5/5 [==============================] - 0s 11ms/step - loss: 0.0167 - val_loss: 0.0290\n",
            "Epoch 43/100\n",
            "5/5 [==============================] - 0s 11ms/step - loss: 0.0166 - val_loss: 0.0289\n",
            "Epoch 44/100\n",
            "5/5 [==============================] - 0s 10ms/step - loss: 0.0165 - val_loss: 0.0288\n",
            "Epoch 45/100\n",
            "5/5 [==============================] - 0s 11ms/step - loss: 0.0164 - val_loss: 0.0288\n",
            "Epoch 46/100\n",
            "5/5 [==============================] - 0s 12ms/step - loss: 0.0163 - val_loss: 0.0288\n",
            "Epoch 47/100\n",
            "5/5 [==============================] - 0s 16ms/step - loss: 0.0162 - val_loss: 0.0286\n",
            "Epoch 48/100\n",
            "5/5 [==============================] - 0s 14ms/step - loss: 0.0161 - val_loss: 0.0286\n",
            "Epoch 49/100\n",
            "5/5 [==============================] - 0s 11ms/step - loss: 0.0160 - val_loss: 0.0286\n",
            "Epoch 50/100\n",
            "5/5 [==============================] - 0s 12ms/step - loss: 0.0159 - val_loss: 0.0284\n",
            "Epoch 51/100\n",
            "5/5 [==============================] - 0s 10ms/step - loss: 0.0159 - val_loss: 0.0285\n",
            "Epoch 52/100\n",
            "5/5 [==============================] - 0s 10ms/step - loss: 0.0157 - val_loss: 0.0285\n",
            "Epoch 53/100\n",
            "5/5 [==============================] - 0s 10ms/step - loss: 0.0156 - val_loss: 0.0283\n",
            "Epoch 54/100\n",
            "5/5 [==============================] - 0s 11ms/step - loss: 0.0155 - val_loss: 0.0282\n",
            "Epoch 55/100\n",
            "5/5 [==============================] - 0s 10ms/step - loss: 0.0154 - val_loss: 0.0283\n",
            "Epoch 56/100\n",
            "5/5 [==============================] - 0s 14ms/step - loss: 0.0154 - val_loss: 0.0284\n",
            "Epoch 57/100\n",
            "5/5 [==============================] - 0s 12ms/step - loss: 0.0153 - val_loss: 0.0279\n",
            "Epoch 58/100\n",
            "5/5 [==============================] - 0s 12ms/step - loss: 0.0151 - val_loss: 0.0278\n",
            "Epoch 59/100\n",
            "5/5 [==============================] - 0s 10ms/step - loss: 0.0150 - val_loss: 0.0278\n",
            "Epoch 60/100\n",
            "5/5 [==============================] - 0s 11ms/step - loss: 0.0148 - val_loss: 0.0278\n",
            "Epoch 61/100\n",
            "5/5 [==============================] - 0s 11ms/step - loss: 0.0147 - val_loss: 0.0276\n",
            "Epoch 62/100\n",
            "5/5 [==============================] - 0s 11ms/step - loss: 0.0146 - val_loss: 0.0275\n",
            "Epoch 63/100\n",
            "5/5 [==============================] - 0s 10ms/step - loss: 0.0145 - val_loss: 0.0275\n",
            "Epoch 64/100\n",
            "5/5 [==============================] - 0s 12ms/step - loss: 0.0144 - val_loss: 0.0274\n",
            "Epoch 65/100\n",
            "5/5 [==============================] - 0s 12ms/step - loss: 0.0143 - val_loss: 0.0277\n",
            "Epoch 66/100\n",
            "5/5 [==============================] - 0s 10ms/step - loss: 0.0143 - val_loss: 0.0276\n",
            "Epoch 67/100\n",
            "5/5 [==============================] - 0s 15ms/step - loss: 0.0143 - val_loss: 0.0275\n",
            "Epoch 68/100\n",
            "5/5 [==============================] - 0s 10ms/step - loss: 0.0142 - val_loss: 0.0275\n",
            "Epoch 69/100\n",
            "5/5 [==============================] - 0s 11ms/step - loss: 0.0141 - val_loss: 0.0273\n",
            "Epoch 70/100\n",
            "5/5 [==============================] - 0s 11ms/step - loss: 0.0140 - val_loss: 0.0274\n",
            "Epoch 71/100\n",
            "5/5 [==============================] - 0s 11ms/step - loss: 0.0140 - val_loss: 0.0273\n",
            "Epoch 72/100\n",
            "5/5 [==============================] - 0s 12ms/step - loss: 0.0139 - val_loss: 0.0272\n",
            "Epoch 73/100\n",
            "5/5 [==============================] - 0s 10ms/step - loss: 0.0138 - val_loss: 0.0273\n",
            "Epoch 74/100\n",
            "5/5 [==============================] - 0s 11ms/step - loss: 0.0140 - val_loss: 0.0275\n",
            "Epoch 75/100\n",
            "5/5 [==============================] - 0s 16ms/step - loss: 0.0140 - val_loss: 0.0272\n",
            "Epoch 76/100\n",
            "5/5 [==============================] - 0s 10ms/step - loss: 0.0138 - val_loss: 0.0271\n",
            "Epoch 77/100\n",
            "5/5 [==============================] - 0s 10ms/step - loss: 0.0138 - val_loss: 0.0271\n",
            "Epoch 78/100\n",
            "5/5 [==============================] - 0s 11ms/step - loss: 0.0137 - val_loss: 0.0271\n",
            "Epoch 79/100\n",
            "5/5 [==============================] - 0s 11ms/step - loss: 0.0137 - val_loss: 0.0271\n",
            "Epoch 80/100\n",
            "5/5 [==============================] - 0s 10ms/step - loss: 0.0137 - val_loss: 0.0271\n",
            "Epoch 81/100\n",
            "5/5 [==============================] - 0s 10ms/step - loss: 0.0137 - val_loss: 0.0270\n",
            "Epoch 82/100\n",
            "5/5 [==============================] - 0s 15ms/step - loss: 0.0137 - val_loss: 0.0270\n",
            "Epoch 83/100\n",
            "5/5 [==============================] - 0s 11ms/step - loss: 0.0137 - val_loss: 0.0271\n",
            "Epoch 84/100\n",
            "5/5 [==============================] - 0s 13ms/step - loss: 0.0137 - val_loss: 0.0270\n",
            "Epoch 85/100\n",
            "5/5 [==============================] - 0s 11ms/step - loss: 0.0136 - val_loss: 0.0270\n",
            "Epoch 86/100\n",
            "5/5 [==============================] - 0s 11ms/step - loss: 0.0136 - val_loss: 0.0269\n",
            "Epoch 87/100\n",
            "5/5 [==============================] - 0s 11ms/step - loss: 0.0136 - val_loss: 0.0269\n",
            "Epoch 88/100\n",
            "5/5 [==============================] - 0s 10ms/step - loss: 0.0136 - val_loss: 0.0269\n",
            "Epoch 89/100\n",
            "5/5 [==============================] - 0s 11ms/step - loss: 0.0136 - val_loss: 0.0269\n",
            "Epoch 90/100\n",
            "5/5 [==============================] - 0s 10ms/step - loss: 0.0135 - val_loss: 0.0269\n",
            "Epoch 91/100\n",
            "5/5 [==============================] - 0s 10ms/step - loss: 0.0136 - val_loss: 0.0268\n",
            "Epoch 92/100\n",
            "5/5 [==============================] - 0s 11ms/step - loss: 0.0136 - val_loss: 0.0267\n",
            "Epoch 93/100\n",
            "5/5 [==============================] - 0s 11ms/step - loss: 0.0136 - val_loss: 0.0267\n",
            "Epoch 94/100\n",
            "5/5 [==============================] - 0s 11ms/step - loss: 0.0136 - val_loss: 0.0268\n",
            "Epoch 95/100\n",
            "5/5 [==============================] - 0s 11ms/step - loss: 0.0135 - val_loss: 0.0267\n",
            "Epoch 96/100\n",
            "5/5 [==============================] - 0s 11ms/step - loss: 0.0135 - val_loss: 0.0267\n",
            "Epoch 97/100\n",
            "5/5 [==============================] - 0s 11ms/step - loss: 0.0135 - val_loss: 0.0267\n",
            "Epoch 98/100\n",
            "5/5 [==============================] - 0s 11ms/step - loss: 0.0136 - val_loss: 0.0266\n",
            "Epoch 99/100\n",
            "5/5 [==============================] - 0s 14ms/step - loss: 0.0135 - val_loss: 0.0265\n",
            "Epoch 100/100\n",
            "5/5 [==============================] - 0s 10ms/step - loss: 0.0135 - val_loss: 0.0266\n"
          ]
        }
      ]
    },
    {
      "cell_type": "markdown",
      "source": [
        "### Plotting training and validation loss curves"
      ],
      "metadata": {
        "id": "mF0rkFIQMLMv"
      }
    },
    {
      "cell_type": "code",
      "source": [
        "plt.plot(history.history[\"loss\"], label=\"Training Loss\")\n",
        "plt.plot(history.history[\"val_loss\"], label=\"Validation Loss\")\n",
        "plt.legend()"
      ],
      "metadata": {
        "colab": {
          "base_uri": "https://localhost:8080/",
          "height": 283
        },
        "id": "nWkojVxzLoLt",
        "outputId": "19e3563d-6be2-473f-f7ab-c860c5383cce"
      },
      "execution_count": 21,
      "outputs": [
        {
          "output_type": "execute_result",
          "data": {
            "text/plain": [
              "<matplotlib.legend.Legend at 0x7faf56424b20>"
            ]
          },
          "metadata": {},
          "execution_count": 21
        },
        {
          "output_type": "display_data",
          "data": {
            "text/plain": [
              "<Figure size 432x288 with 1 Axes>"
            ],
            "image/png": "[encoded data removed]"
          },
          "metadata": {
            "needs_background": "light"
          }
        }
      ]
    },
    {
      "cell_type": "markdown",
      "source": [
        "### Passing the normal and anomalous data into our autoencoder"
      ],
      "metadata": {
        "id": "oLKRIO8DN0NP"
      }
    },
    {
      "cell_type": "code",
      "source": [
        "# normal ECG\n",
        "normal_encoded = model.encoder(normal_test_data).numpy()\n",
        "normal_decoded = model.decoder(normal_encoded).numpy()\n",
        "# anomalous ECG\n",
        "anomaly_encoded = model.encoder(anomalous_test_data).numpy()\n",
        "anomaly_decoded = model.decoder(anomaly_encoded).numpy()"
      ],
      "metadata": {
        "id": "ZAHYzl_SMQtN"
      },
      "execution_count": 22,
      "outputs": []
    },
    {
      "cell_type": "markdown",
      "source": [
        "###Lets plot the Normal and Anomalous ECG data after passing them through the autoencoder\n",
        "* Normal ECG"
      ],
      "metadata": {
        "id": "dlV9dwk1Mk3-"
      }
    },
    {
      "cell_type": "code",
      "source": [
        "plt.plot(normal_test_data[20],'b')\n",
        "plt.plot(normal_decoded[20],'r')\n",
        "plt.fill_between(np.arange(140), normal_decoded[20], normal_test_data[20], color='lightcoral' )\n",
        "plt.legend(labels=[\"Input\", \"Reconstruction\", \"Error\"])\n",
        "plt.show()"
      ],
      "metadata": {
        "colab": {
          "base_uri": "https://localhost:8080/",
          "height": 265
        },
        "id": "evFN4aWzOUgN",
        "outputId": "b669b6dc-3797-4d64-93c7-6c84720d5543"
      },
      "execution_count": 23,
      "outputs": [
        {
          "output_type": "display_data",
          "data": {
            "text/plain": [
              "<Figure size 432x288 with 1 Axes>"
            ],
            "image/png": "[encoded data removed]"
          },
          "metadata": {
            "needs_background": "light"
          }
        }
      ]
    },
    {
      "cell_type": "markdown",
      "source": [
        "* Anomalous ECG"
      ],
      "metadata": {
        "id": "DLp6tw12OfL_"
      }
    },
    {
      "cell_type": "code",
      "source": [
        "plt.plot(anomalous_test_data[20],'b')\n",
        "plt.plot(anomaly_decoded[20],'r')\n",
        "plt.fill_between(np.arange(140), anomaly_decoded[20], anomalous_test_data[20], color='lightcoral' )\n",
        "plt.legend(labels=[\"Input\", \"Reconstruction\", \"Error\"])\n",
        "plt.show()"
      ],
      "metadata": {
        "colab": {
          "base_uri": "https://localhost:8080/",
          "height": 268
        },
        "id": "9UopWq9YOV-2",
        "outputId": "4b0c6e80-3dda-4687-c85b-472a8865c5b0"
      },
      "execution_count": 24,
      "outputs": [
        {
          "output_type": "display_data",
          "data": {
            "text/plain": [
              "<Figure size 432x288 with 1 Axes>"
            ],
            "image/png": "[encoded data removed]"
          },
          "metadata": {
            "needs_background": "light"
          }
        }
      ]
    },
    {
      "cell_type": "markdown",
      "source": [
        "### Detect anomalies:\n",
        "Calculate whether the reconstruction loss is greater than a fixed threshold.Calculate the mean average error for normal examples from the training set, then classify future examples as anomalous if the reconstruction error is higher than one standard deviation from the training set."
      ],
      "metadata": {
        "id": "YMScxL6VPCkx"
      }
    },
    {
      "cell_type": "markdown",
      "source": [
        "* Plotting the reconstruction error from normal ECG"
      ],
      "metadata": {
        "id": "TaLNTEfhP8Z3"
      }
    },
    {
      "cell_type": "code",
      "source": [
        "reconstructions = model.predict(normal_train_data)\n",
        "train_loss = tf.keras.losses.mae(reconstructions, normal_train_data)\n",
        "\n",
        "plt.hist(train_loss, bins=50)\n",
        "plt.xlabel(\"Train loss\")\n",
        "plt.ylabel(\"No of examples\")\n",
        "plt.show()"
      ],
      "metadata": {
        "colab": {
          "base_uri": "https://localhost:8080/",
          "height": 297
        },
        "id": "ecVKYIilOsxN",
        "outputId": "d76b78ee-e146-4d13-8bb8-8bd8a6aabd68"
      },
      "execution_count": 25,
      "outputs": [
        {
          "output_type": "stream",
          "name": "stdout",
          "text": [
            "74/74 [==============================] - 0s 2ms/step\n"
          ]
        },
        {
          "output_type": "display_data",
          "data": {
            "text/plain": [
              "<Figure size 432x288 with 1 Axes>"
            ],
            "image/png": "[encoded data removed]"
          },
          "metadata": {
            "needs_background": "light"
          }
        }
      ]
    },
    {
      "cell_type": "markdown",
      "source": [
        "* Plotting the reconstruction error from anomalous ECG"
      ],
      "metadata": {
        "id": "yrATXmnCQD0c"
      }
    },
    {
      "cell_type": "code",
      "source": [
        "reconstructions = model.predict(anomalous_test_data)\n",
        "test_loss = tf.keras.losses.mae(reconstructions, anomalous_test_data)\n",
        "\n",
        "plt.hist(test_loss, bins=50)\n",
        "plt.xlabel(\"Test loss\")\n",
        "plt.ylabel(\"No of examples\")\n",
        "plt.show()"
      ],
      "metadata": {
        "colab": {
          "base_uri": "https://localhost:8080/",
          "height": 297
        },
        "id": "wN5Uy0wzPuhF",
        "outputId": "600baa73-7e47-4bd4-844d-d66353d8a055"
      },
      "execution_count": 27,
      "outputs": [
        {
          "output_type": "stream",
          "name": "stdout",
          "text": [
            "14/14 [==============================] - 0s 2ms/step\n"
          ]
        },
        {
          "output_type": "display_data",
          "data": {
            "text/plain": [
              "<Figure size 432x288 with 1 Axes>"
            ],
            "image/png": "[encoded data removed]"
          },
          "metadata": {
            "needs_background": "light"
          }
        }
      ]
    },
    {
      "cell_type": "code",
      "source": [
        "# Choosing a threshold value that is 1 standard deviation above the mean\n",
        "\n",
        "threshold = np.mean(train_loss) + np.std(train_loss)\n",
        "print(\"Threshold: \", threshold)"
      ],
      "metadata": {
        "colab": {
          "base_uri": "https://localhost:8080/"
        },
        "id": "lY-_L98JPjyt",
        "outputId": "375c96be-1172-4a04-8104-e9e890db3a86"
      },
      "execution_count": 26,
      "outputs": [
        {
          "output_type": "stream",
          "name": "stdout",
          "text": [
            "Threshold:  0.02071191580961312\n"
          ]
        }
      ]
    },
    {
      "cell_type": "markdown",
      "source": [
        "### Classifying an ECG as an anomaly if the reconstruction error is greater than the threshold."
      ],
      "metadata": {
        "id": "0XTd8nr6SvyM"
      }
    },
    {
      "cell_type": "code",
      "source": [
        "from sklearn.metrics import accuracy_score\n",
        "\n",
        "def predict(model, data, threshold):\n",
        "  reconstructions = model(data)\n",
        "  loss = tf.keras.losses.mae(reconstructions, data)\n",
        "  return tf.math.less(loss, threshold)\n",
        "\n",
        "preds = predict(model, test_data, threshold)\n",
        "print(\"Accuracy = {}\".format(accuracy_score(preds, y_test)))"
      ],
      "metadata": {
        "colab": {
          "base_uri": "https://localhost:8080/"
        },
        "id": "MmoUKYvbSL0O",
        "outputId": "2d96d23e-9600-4ea0-95bb-9a3ca1c22a33"
      },
      "execution_count": 28,
      "outputs": [
        {
          "output_type": "stream",
          "name": "stdout",
          "text": [
            "Accuracy = 0.955\n"
          ]
        }
      ]
    },
    {
      "cell_type": "markdown",
      "source": [
        "### **Observation:**\n",
        "* #### Our autoencoder model is able to reconstruct the ECG images with an accuracy of 95%.\n",
        "* #### Decreasing the number of epochs(like around 20-50) while training the model may decrease the performance of the model.\n",
        "* #### Choosing the threshold value to classify a data sample as anomalous can be done many ways, we can adjust the precision and recall of our model by varying the threshold."
      ],
      "metadata": {
        "id": "xyQs6_1jT9S7"
      }
    },
    {
      "cell_type": "code",
      "source": [],
      "metadata": {
        "id": "fJRmSkIXT7In"
      },
      "execution_count": null,
      "outputs": []
    }
  ]
}