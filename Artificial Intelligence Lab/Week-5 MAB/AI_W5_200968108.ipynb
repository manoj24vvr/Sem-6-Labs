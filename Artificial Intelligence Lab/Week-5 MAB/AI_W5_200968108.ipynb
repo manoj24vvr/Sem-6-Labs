{
  "nbformat": 4,
  "nbformat_minor": 0,
  "metadata": {
    "colab": {
      "provenance": []
    },
    "kernelspec": {
      "name": "python3",
      "display_name": "Python 3"
    },
    "language_info": {
      "name": "python"
    }
  },
  "cells": [
    {
      "cell_type": "markdown",
      "source": [
        "### **Week-5:** MULTI ARMED BANDITS IN TF-AGENTS\n",
        "### **Name:** Atyam V V R Manoj\n",
        "### **Reg No. | Sec :** 200968108 | DSE-A 27"
      ],
      "metadata": {
        "id": "6dOaEAjpu7rm"
      }
    },
    {
      "cell_type": "markdown",
      "source": [
        "Installing & importing required libraries"
      ],
      "metadata": {
        "id": "ucM_ZYZnvT5f"
      }
    },
    {
      "cell_type": "code",
      "execution_count": 1,
      "metadata": {
        "id": "-JLkfrpzpXH4",
        "colab": {
          "base_uri": "https://localhost:8080/"
        },
        "outputId": "c10eefca-b2db-4e0f-c28f-7851e5fdc425"
      },
      "outputs": [
        {
          "output_type": "stream",
          "name": "stdout",
          "text": [
            "Looking in indexes: https://pypi.org/simple, https://us-python.pkg.dev/colab-wheels/public/simple/\n",
            "Requirement already satisfied: tf-agents in /usr/local/lib/python3.8/dist-packages (0.15.0)\n",
            "Requirement already satisfied: six>=1.10.0 in /usr/local/lib/python3.8/dist-packages (from tf-agents) (1.15.0)\n",
            "Requirement already satisfied: protobuf>=3.11.3 in /usr/local/lib/python3.8/dist-packages (from tf-agents) (3.19.6)\n",
            "Requirement already satisfied: typing-extensions>=3.7.4.3 in /usr/local/lib/python3.8/dist-packages (from tf-agents) (4.5.0)\n",
            "Requirement already satisfied: pygame==2.1.0 in /usr/local/lib/python3.8/dist-packages (from tf-agents) (2.1.0)\n",
            "Requirement already satisfied: numpy>=1.13.3 in /usr/local/lib/python3.8/dist-packages (from tf-agents) (1.22.4)\n",
            "Requirement already satisfied: cloudpickle>=1.3 in /usr/local/lib/python3.8/dist-packages (from tf-agents) (2.2.1)\n",
            "Requirement already satisfied: wrapt>=1.11.1 in /usr/local/lib/python3.8/dist-packages (from tf-agents) (1.15.0)\n",
            "Requirement already satisfied: tensorflow-probability>=0.18.0 in /usr/local/lib/python3.8/dist-packages (from tf-agents) (0.19.0)\n",
            "Requirement already satisfied: gym<=0.23.0,>=0.17.0 in /usr/local/lib/python3.8/dist-packages (from tf-agents) (0.23.0)\n",
            "Requirement already satisfied: gin-config>=0.4.0 in /usr/local/lib/python3.8/dist-packages (from tf-agents) (0.5.0)\n",
            "Requirement already satisfied: pillow in /usr/local/lib/python3.8/dist-packages (from tf-agents) (8.4.0)\n",
            "Requirement already satisfied: absl-py>=0.6.1 in /usr/local/lib/python3.8/dist-packages (from tf-agents) (1.4.0)\n",
            "Requirement already satisfied: gym-notices>=0.0.4 in /usr/local/lib/python3.8/dist-packages (from gym<=0.23.0,>=0.17.0->tf-agents) (0.0.8)\n",
            "Requirement already satisfied: importlib-metadata>=4.10.0 in /usr/local/lib/python3.8/dist-packages (from gym<=0.23.0,>=0.17.0->tf-agents) (6.0.0)\n",
            "Requirement already satisfied: decorator in /usr/local/lib/python3.8/dist-packages (from tensorflow-probability>=0.18.0->tf-agents) (4.4.2)\n",
            "Requirement already satisfied: dm-tree in /usr/local/lib/python3.8/dist-packages (from tensorflow-probability>=0.18.0->tf-agents) (0.1.8)\n",
            "Requirement already satisfied: gast>=0.3.2 in /usr/local/lib/python3.8/dist-packages (from tensorflow-probability>=0.18.0->tf-agents) (0.4.0)\n",
            "Requirement already satisfied: zipp>=0.5 in /usr/local/lib/python3.8/dist-packages (from importlib-metadata>=4.10.0->gym<=0.23.0,>=0.17.0->tf-agents) (3.15.0)\n"
          ]
        }
      ],
      "source": [
        "!pip install tf-agents"
      ]
    },
    {
      "cell_type": "code",
      "source": [
        "# Importing libraries\n",
        "\n",
        "import abc\n",
        "import numpy as np\n",
        "import tensorflow as tf\n",
        "\n",
        "from tf_agents.agents import tf_agent\n",
        "from tf_agents.drivers import driver\n",
        "from tf_agents.environments import py_environment\n",
        "from tf_agents.environments import tf_environment\n",
        "from tf_agents.environments import tf_py_environment\n",
        "from tf_agents.policies import tf_policy\n",
        "from tf_agents.specs import array_spec\n",
        "from tf_agents.specs import tensor_spec\n",
        "from tf_agents.trajectories import time_step as ts\n",
        "from tf_agents.trajectories import trajectory\n",
        "from tf_agents.trajectories import policy_step\n",
        "\n",
        "from tf_agents.bandits.agents import lin_ucb_agent\n",
        "from tf_agents.bandits.environments import stationary_stochastic_py_environment as sspe\n",
        "from tf_agents.bandits.metrics import tf_metrics\n",
        "from tf_agents.drivers import dynamic_step_driver\n",
        "from tf_agents.replay_buffers import tf_uniform_replay_buffer\n",
        "\n",
        "nest = tf.nest"
      ],
      "metadata": {
        "id": "J3mUTO-MxCvr"
      },
      "execution_count": 2,
      "outputs": []
    },
    {
      "cell_type": "markdown",
      "source": [
        "In this Bandit problem, the observations are independent, so to abstract away thye concept of RL episodes, we define two subclasses of *PyEnvironment* and *TFEnvironment*: **BanditPyEnvironment** and **BanditTFEnvironment.**"
      ],
      "metadata": {
        "id": "rnuw4BW9yIE5"
      }
    },
    {
      "cell_type": "code",
      "source": [
        "# creating a BanditPyEnvironment class\n",
        "\n",
        "class BanditPyEnvironment(py_environment.PyEnvironment):\n",
        "\n",
        "  def __init__(self, observation_spec, action_spec):\n",
        "    self._observation_spec = observation_spec\n",
        "    self._action_spec = action_spec\n",
        "    super(BanditPyEnvironment, self).__init__()\n",
        "\n",
        "  # Helper functions.\n",
        "  def action_spec(self):\n",
        "    return self._action_spec\n",
        "\n",
        "  def observation_spec(self):\n",
        "    return self._observation_spec\n",
        "\n",
        "  def _empty_observation(self):\n",
        "    return tf.nest.map_structure(lambda x: np.zeros(x.shape, x.dtype),\n",
        "                                 self.observation_spec())\n",
        "\n",
        "  # These two functions below should not be overridden by subclasses.\n",
        "  def _reset(self):\n",
        "    \"\"\"Returns a time step containing an observation.\"\"\"\n",
        "    return ts.restart(self._observe(), batch_size=self.batch_size)\n",
        "\n",
        "  def _step(self, action):\n",
        "    \"\"\"Returns a time step containing the reward for the action taken.\"\"\"\n",
        "    reward = self._apply_action(action)\n",
        "    return ts.termination(self._observe(), reward)\n",
        "\n",
        "  # These two functions below are to be implemented in subclasses.\n",
        "  @abc.abstractmethod\n",
        "  def _observe(self):\n",
        "    \"\"\"Returns an observation.\"\"\"\n",
        "\n",
        "  @abc.abstractmethod\n",
        "  def _apply_action(self, action):\n",
        "    \"\"\"Applies `action` to the Environment and returns the corresponding reward.\n",
        "    \"\"\""
      ],
      "metadata": {
        "id": "3-uBmaC3x6FE"
      },
      "execution_count": 3,
      "outputs": []
    },
    {
      "cell_type": "markdown",
      "source": [
        "#### **Exercise 1 -** Create a  environment\n",
        "\n",
        "**a. for  which  the  observation  is  a  random  integer  between -5  and  5,  there  are  3 possible actions (0, 1, 2), and the reward is the product of the action and the observation.**"
      ],
      "metadata": {
        "id": "S7-dqs-QvYBH"
      }
    },
    {
      "cell_type": "code",
      "source": [
        "# creating a SimplePyEnvironment with above mentioned param\n",
        "\n",
        "class SimplePyEnvironment(BanditPyEnvironment):\n",
        "\n",
        "  def __init__(self):\n",
        "    action_spec = array_spec.BoundedArraySpec( shape=(), dtype=np.int32, minimum=0, maximum=2, name='action')\n",
        "    observation_spec = array_spec.BoundedArraySpec(shape=(1,), dtype=np.int32, minimum=-5, maximum=5, name='observation')\n",
        "    super(SimplePyEnvironment, self).__init__(observation_spec, action_spec)\n",
        "\n",
        "  def _observe(self):\n",
        "    self._observation = np.random.randint(-2, 3, (1,), dtype='int32')\n",
        "    return self._observation\n",
        "\n",
        "  def _apply_action(self, action):\n",
        "    return action * self._observation\n",
        "\n",
        "\n",
        "#  We can use this environment to get the observations, and receive rewards for our actions\n"
      ],
      "metadata": {
        "id": "XKx_clmBv7_G"
      },
      "execution_count": 4,
      "outputs": []
    },
    {
      "cell_type": "code",
      "source": [
        "# testing the above environment\n",
        "\n",
        "environment = SimplePyEnvironment()\n",
        "observation = environment.reset().observation\n",
        "print(\"observation: %d\" % observation)\n",
        "\n",
        "action = 1\n",
        "\n",
        "print(\"action: %d\" % action)\n",
        "reward = environment.step(action).reward\n",
        "print(\"reward: %f\" % reward)"
      ],
      "metadata": {
        "colab": {
          "base_uri": "https://localhost:8080/"
        },
        "id": "51XoexZPz6CQ",
        "outputId": "25514306-8d37-4ccf-b03c-5cd663a9520b"
      },
      "execution_count": 5,
      "outputs": [
        {
          "output_type": "stream",
          "name": "stdout",
          "text": [
            "observation: 2\n",
            "action: 1\n",
            "reward: 2.000000\n"
          ]
        }
      ]
    },
    {
      "cell_type": "markdown",
      "source": [
        "We can define a Bandit environment by wraping the BanditPyEnvironment subclass with *TFPyEnvironment.*"
      ],
      "metadata": {
        "id": "Hc_91Y49009e"
      }
    },
    {
      "cell_type": "code",
      "source": [
        "tf_environment = tf_py_environment.TFPyEnvironment(environment)"
      ],
      "metadata": {
        "id": "tPKpqJbe0xc5"
      },
      "execution_count": 6,
      "outputs": []
    },
    {
      "cell_type": "markdown",
      "source": [
        "**b. Define an optimal policy manually. The action only depends on the sign of the observation, 0 when is negative and 2 when is positive.**"
      ],
      "metadata": {
        "id": "BLoIEgFUwZCo"
      }
    },
    {
      "cell_type": "code",
      "source": [
        "class SignPolicy(tf_policy.TFPolicy):\n",
        "  def __init__(self):\n",
        "    observation_spec = tensor_spec.BoundedTensorSpec(\n",
        "        shape=(1,), dtype=tf.int32, minimum=-2, maximum=2)\n",
        "    time_step_spec = ts.time_step_spec(observation_spec)\n",
        "\n",
        "    action_spec = tensor_spec.BoundedTensorSpec(\n",
        "        shape=(), dtype=tf.int32, minimum=0, maximum=2)\n",
        "\n",
        "    super(SignPolicy, self).__init__(time_step_spec=time_step_spec,\n",
        "                                     action_spec=action_spec)\n",
        "  def _distribution(self, time_step):\n",
        "    pass\n",
        "\n",
        "  def _variables(self):\n",
        "    return ()\n",
        "\n",
        "  def _action(self, time_step, policy_state, seed):\n",
        "    observation_sign = tf.cast(tf.sign(time_step.observation[0]), dtype=tf.int32)\n",
        "    action = observation_sign + 1\n",
        "    return policy_step.PolicyStep(action, policy_state)"
      ],
      "metadata": {
        "id": "5jbMj4QmwZLp"
      },
      "execution_count": 7,
      "outputs": []
    },
    {
      "cell_type": "markdown",
      "source": [
        "Now we can request an observation from the environment, call the policy to choose an action, then the environment will output the reward."
      ],
      "metadata": {
        "id": "3xRnohw82GUe"
      }
    },
    {
      "cell_type": "markdown",
      "source": [
        "**c. Request  for  50  observations  from  the  environment,  compute  and  print  the total reward.**"
      ],
      "metadata": {
        "id": "0BkMsWUfwcpB"
      }
    },
    {
      "cell_type": "code",
      "source": [
        "sign_policy = SignPolicy()\n",
        "all_rewards = []\n",
        "\n",
        "# defining a 'for' loop for running the 50 observations\n",
        "for i in range(1,51):\n",
        "  print(\"Observation \",i,\":\")\n",
        "  current_time_step = tf_environment.reset()\n",
        "  print('Observation:')\n",
        "  print (current_time_step.observation)\n",
        "  action = sign_policy.action(current_time_step).action\n",
        "  print('Action:')\n",
        "  print (action)\n",
        "  reward = tf_environment.step(action).reward\n",
        "  print('Reward:')\n",
        "  print(reward)\n",
        "  all_rewards.append(reward)\n",
        "  print(\"\\n\")\n",
        "\n",
        "print(\"Total Rewards: \", sum(all_rewards))\n",
        "\n"
      ],
      "metadata": {
        "id": "3wRuc4IAwcuo",
        "colab": {
          "base_uri": "https://localhost:8080/"
        },
        "outputId": "83abd33a-5a7a-48ce-80bd-c6f9522bf385"
      },
      "execution_count": 16,
      "outputs": [
        {
          "output_type": "stream",
          "name": "stdout",
          "text": [
            "Observation  1 :\n",
            "Observation:\n",
            "tf.Tensor([[0]], shape=(1, 1), dtype=int32)\n",
            "Action:\n",
            "tf.Tensor([1], shape=(1,), dtype=int32)\n",
            "Reward:\n",
            "tf.Tensor([[0.]], shape=(1, 1), dtype=float32)\n",
            "\n",
            "\n",
            "Observation  2 :\n",
            "Observation:\n",
            "tf.Tensor([[-2]], shape=(1, 1), dtype=int32)\n",
            "Action:\n",
            "tf.Tensor([0], shape=(1,), dtype=int32)\n",
            "Reward:\n",
            "tf.Tensor([[0.]], shape=(1, 1), dtype=float32)\n",
            "\n",
            "\n",
            "Observation  3 :\n",
            "Observation:\n",
            "tf.Tensor([[0]], shape=(1, 1), dtype=int32)\n",
            "Action:\n",
            "tf.Tensor([1], shape=(1,), dtype=int32)\n",
            "Reward:\n",
            "tf.Tensor([[0.]], shape=(1, 1), dtype=float32)\n",
            "\n",
            "\n",
            "Observation  4 :\n",
            "Observation:\n",
            "tf.Tensor([[2]], shape=(1, 1), dtype=int32)\n",
            "Action:\n",
            "tf.Tensor([2], shape=(1,), dtype=int32)\n",
            "Reward:\n",
            "tf.Tensor([[4.]], shape=(1, 1), dtype=float32)\n",
            "\n",
            "\n",
            "Observation  5 :\n",
            "Observation:\n",
            "tf.Tensor([[0]], shape=(1, 1), dtype=int32)\n",
            "Action:\n",
            "tf.Tensor([1], shape=(1,), dtype=int32)\n",
            "Reward:\n",
            "tf.Tensor([[0.]], shape=(1, 1), dtype=float32)\n",
            "\n",
            "\n",
            "Observation  6 :\n",
            "Observation:\n",
            "tf.Tensor([[1]], shape=(1, 1), dtype=int32)\n",
            "Action:\n",
            "tf.Tensor([2], shape=(1,), dtype=int32)\n",
            "Reward:\n",
            "tf.Tensor([[2.]], shape=(1, 1), dtype=float32)\n",
            "\n",
            "\n",
            "Observation  7 :\n",
            "Observation:\n",
            "tf.Tensor([[-1]], shape=(1, 1), dtype=int32)\n",
            "Action:\n",
            "tf.Tensor([0], shape=(1,), dtype=int32)\n",
            "Reward:\n",
            "tf.Tensor([[0.]], shape=(1, 1), dtype=float32)\n",
            "\n",
            "\n",
            "Observation  8 :\n",
            "Observation:\n",
            "tf.Tensor([[0]], shape=(1, 1), dtype=int32)\n",
            "Action:\n",
            "tf.Tensor([1], shape=(1,), dtype=int32)\n",
            "Reward:\n",
            "tf.Tensor([[0.]], shape=(1, 1), dtype=float32)\n",
            "\n",
            "\n",
            "Observation  9 :\n",
            "Observation:\n",
            "tf.Tensor([[-1]], shape=(1, 1), dtype=int32)\n",
            "Action:\n",
            "tf.Tensor([0], shape=(1,), dtype=int32)\n",
            "Reward:\n",
            "tf.Tensor([[0.]], shape=(1, 1), dtype=float32)\n",
            "\n",
            "\n",
            "Observation  10 :\n",
            "Observation:\n",
            "tf.Tensor([[-2]], shape=(1, 1), dtype=int32)\n",
            "Action:\n",
            "tf.Tensor([0], shape=(1,), dtype=int32)\n",
            "Reward:\n",
            "tf.Tensor([[0.]], shape=(1, 1), dtype=float32)\n",
            "\n",
            "\n",
            "Observation  11 :\n",
            "Observation:\n",
            "tf.Tensor([[-1]], shape=(1, 1), dtype=int32)\n",
            "Action:\n",
            "tf.Tensor([0], shape=(1,), dtype=int32)\n",
            "Reward:\n",
            "tf.Tensor([[0.]], shape=(1, 1), dtype=float32)\n",
            "\n",
            "\n",
            "Observation  12 :\n",
            "Observation:\n",
            "tf.Tensor([[-2]], shape=(1, 1), dtype=int32)\n",
            "Action:\n",
            "tf.Tensor([0], shape=(1,), dtype=int32)\n",
            "Reward:\n",
            "tf.Tensor([[0.]], shape=(1, 1), dtype=float32)\n",
            "\n",
            "\n",
            "Observation  13 :\n",
            "Observation:\n",
            "tf.Tensor([[-1]], shape=(1, 1), dtype=int32)\n",
            "Action:\n",
            "tf.Tensor([0], shape=(1,), dtype=int32)\n",
            "Reward:\n",
            "tf.Tensor([[0.]], shape=(1, 1), dtype=float32)\n",
            "\n",
            "\n",
            "Observation  14 :\n",
            "Observation:\n",
            "tf.Tensor([[-1]], shape=(1, 1), dtype=int32)\n",
            "Action:\n",
            "tf.Tensor([0], shape=(1,), dtype=int32)\n",
            "Reward:\n",
            "tf.Tensor([[0.]], shape=(1, 1), dtype=float32)\n",
            "\n",
            "\n",
            "Observation  15 :\n",
            "Observation:\n",
            "tf.Tensor([[2]], shape=(1, 1), dtype=int32)\n",
            "Action:\n",
            "tf.Tensor([2], shape=(1,), dtype=int32)\n",
            "Reward:\n",
            "tf.Tensor([[4.]], shape=(1, 1), dtype=float32)\n",
            "\n",
            "\n",
            "Observation  16 :\n",
            "Observation:\n",
            "tf.Tensor([[2]], shape=(1, 1), dtype=int32)\n",
            "Action:\n",
            "tf.Tensor([2], shape=(1,), dtype=int32)\n",
            "Reward:\n",
            "tf.Tensor([[4.]], shape=(1, 1), dtype=float32)\n",
            "\n",
            "\n",
            "Observation  17 :\n",
            "Observation:\n",
            "tf.Tensor([[-1]], shape=(1, 1), dtype=int32)\n",
            "Action:\n",
            "tf.Tensor([0], shape=(1,), dtype=int32)\n",
            "Reward:\n",
            "tf.Tensor([[0.]], shape=(1, 1), dtype=float32)\n",
            "\n",
            "\n",
            "Observation  18 :\n",
            "Observation:\n",
            "tf.Tensor([[-1]], shape=(1, 1), dtype=int32)\n",
            "Action:\n",
            "tf.Tensor([0], shape=(1,), dtype=int32)\n",
            "Reward:\n",
            "tf.Tensor([[0.]], shape=(1, 1), dtype=float32)\n",
            "\n",
            "\n",
            "Observation  19 :\n",
            "Observation:\n",
            "tf.Tensor([[2]], shape=(1, 1), dtype=int32)\n",
            "Action:\n",
            "tf.Tensor([2], shape=(1,), dtype=int32)\n",
            "Reward:\n",
            "tf.Tensor([[4.]], shape=(1, 1), dtype=float32)\n",
            "\n",
            "\n",
            "Observation  20 :\n",
            "Observation:\n",
            "tf.Tensor([[1]], shape=(1, 1), dtype=int32)\n",
            "Action:\n",
            "tf.Tensor([2], shape=(1,), dtype=int32)\n",
            "Reward:\n",
            "tf.Tensor([[2.]], shape=(1, 1), dtype=float32)\n",
            "\n",
            "\n",
            "Observation  21 :\n",
            "Observation:\n",
            "tf.Tensor([[0]], shape=(1, 1), dtype=int32)\n",
            "Action:\n",
            "tf.Tensor([1], shape=(1,), dtype=int32)\n",
            "Reward:\n",
            "tf.Tensor([[0.]], shape=(1, 1), dtype=float32)\n",
            "\n",
            "\n",
            "Observation  22 :\n",
            "Observation:\n",
            "tf.Tensor([[2]], shape=(1, 1), dtype=int32)\n",
            "Action:\n",
            "tf.Tensor([2], shape=(1,), dtype=int32)\n",
            "Reward:\n",
            "tf.Tensor([[4.]], shape=(1, 1), dtype=float32)\n",
            "\n",
            "\n",
            "Observation  23 :\n",
            "Observation:\n",
            "tf.Tensor([[0]], shape=(1, 1), dtype=int32)\n",
            "Action:\n",
            "tf.Tensor([1], shape=(1,), dtype=int32)\n",
            "Reward:\n",
            "tf.Tensor([[0.]], shape=(1, 1), dtype=float32)\n",
            "\n",
            "\n",
            "Observation  24 :\n",
            "Observation:\n",
            "tf.Tensor([[0]], shape=(1, 1), dtype=int32)\n",
            "Action:\n",
            "tf.Tensor([1], shape=(1,), dtype=int32)\n",
            "Reward:\n",
            "tf.Tensor([[0.]], shape=(1, 1), dtype=float32)\n",
            "\n",
            "\n",
            "Observation  25 :\n",
            "Observation:\n",
            "tf.Tensor([[-1]], shape=(1, 1), dtype=int32)\n",
            "Action:\n",
            "tf.Tensor([0], shape=(1,), dtype=int32)\n",
            "Reward:\n",
            "tf.Tensor([[0.]], shape=(1, 1), dtype=float32)\n",
            "\n",
            "\n",
            "Observation  26 :\n",
            "Observation:\n",
            "tf.Tensor([[1]], shape=(1, 1), dtype=int32)\n",
            "Action:\n",
            "tf.Tensor([2], shape=(1,), dtype=int32)\n",
            "Reward:\n",
            "tf.Tensor([[2.]], shape=(1, 1), dtype=float32)\n",
            "\n",
            "\n",
            "Observation  27 :\n",
            "Observation:\n",
            "tf.Tensor([[1]], shape=(1, 1), dtype=int32)\n",
            "Action:\n",
            "tf.Tensor([2], shape=(1,), dtype=int32)\n",
            "Reward:\n",
            "tf.Tensor([[2.]], shape=(1, 1), dtype=float32)\n",
            "\n",
            "\n",
            "Observation  28 :\n",
            "Observation:\n",
            "tf.Tensor([[1]], shape=(1, 1), dtype=int32)\n",
            "Action:\n",
            "tf.Tensor([2], shape=(1,), dtype=int32)\n",
            "Reward:\n",
            "tf.Tensor([[2.]], shape=(1, 1), dtype=float32)\n",
            "\n",
            "\n",
            "Observation  29 :\n",
            "Observation:\n",
            "tf.Tensor([[-2]], shape=(1, 1), dtype=int32)\n",
            "Action:\n",
            "tf.Tensor([0], shape=(1,), dtype=int32)\n",
            "Reward:\n",
            "tf.Tensor([[0.]], shape=(1, 1), dtype=float32)\n",
            "\n",
            "\n",
            "Observation  30 :\n",
            "Observation:\n",
            "tf.Tensor([[2]], shape=(1, 1), dtype=int32)\n",
            "Action:\n",
            "tf.Tensor([2], shape=(1,), dtype=int32)\n",
            "Reward:\n",
            "tf.Tensor([[4.]], shape=(1, 1), dtype=float32)\n",
            "\n",
            "\n",
            "Observation  31 :\n",
            "Observation:\n",
            "tf.Tensor([[2]], shape=(1, 1), dtype=int32)\n",
            "Action:\n",
            "tf.Tensor([2], shape=(1,), dtype=int32)\n",
            "Reward:\n",
            "tf.Tensor([[4.]], shape=(1, 1), dtype=float32)\n",
            "\n",
            "\n",
            "Observation  32 :\n",
            "Observation:\n",
            "tf.Tensor([[1]], shape=(1, 1), dtype=int32)\n",
            "Action:\n",
            "tf.Tensor([2], shape=(1,), dtype=int32)\n",
            "Reward:\n",
            "tf.Tensor([[2.]], shape=(1, 1), dtype=float32)\n",
            "\n",
            "\n",
            "Observation  33 :\n",
            "Observation:\n",
            "tf.Tensor([[1]], shape=(1, 1), dtype=int32)\n",
            "Action:\n",
            "tf.Tensor([2], shape=(1,), dtype=int32)\n",
            "Reward:\n",
            "tf.Tensor([[2.]], shape=(1, 1), dtype=float32)\n",
            "\n",
            "\n",
            "Observation  34 :\n",
            "Observation:\n",
            "tf.Tensor([[-1]], shape=(1, 1), dtype=int32)\n",
            "Action:\n",
            "tf.Tensor([0], shape=(1,), dtype=int32)\n",
            "Reward:\n",
            "tf.Tensor([[0.]], shape=(1, 1), dtype=float32)\n",
            "\n",
            "\n",
            "Observation  35 :\n",
            "Observation:\n",
            "tf.Tensor([[0]], shape=(1, 1), dtype=int32)\n",
            "Action:\n",
            "tf.Tensor([1], shape=(1,), dtype=int32)\n",
            "Reward:\n",
            "tf.Tensor([[0.]], shape=(1, 1), dtype=float32)\n",
            "\n",
            "\n",
            "Observation  36 :\n",
            "Observation:\n",
            "tf.Tensor([[-2]], shape=(1, 1), dtype=int32)\n",
            "Action:\n",
            "tf.Tensor([0], shape=(1,), dtype=int32)\n",
            "Reward:\n",
            "tf.Tensor([[0.]], shape=(1, 1), dtype=float32)\n",
            "\n",
            "\n",
            "Observation  37 :\n",
            "Observation:\n",
            "tf.Tensor([[2]], shape=(1, 1), dtype=int32)\n",
            "Action:\n",
            "tf.Tensor([2], shape=(1,), dtype=int32)\n",
            "Reward:\n",
            "tf.Tensor([[4.]], shape=(1, 1), dtype=float32)\n",
            "\n",
            "\n",
            "Observation  38 :\n",
            "Observation:\n",
            "tf.Tensor([[-1]], shape=(1, 1), dtype=int32)\n",
            "Action:\n",
            "tf.Tensor([0], shape=(1,), dtype=int32)\n",
            "Reward:\n",
            "tf.Tensor([[0.]], shape=(1, 1), dtype=float32)\n",
            "\n",
            "\n",
            "Observation  39 :\n",
            "Observation:\n",
            "tf.Tensor([[-2]], shape=(1, 1), dtype=int32)\n",
            "Action:\n",
            "tf.Tensor([0], shape=(1,), dtype=int32)\n",
            "Reward:\n",
            "tf.Tensor([[0.]], shape=(1, 1), dtype=float32)\n",
            "\n",
            "\n",
            "Observation  40 :\n",
            "Observation:\n",
            "tf.Tensor([[1]], shape=(1, 1), dtype=int32)\n",
            "Action:\n",
            "tf.Tensor([2], shape=(1,), dtype=int32)\n",
            "Reward:\n",
            "tf.Tensor([[2.]], shape=(1, 1), dtype=float32)\n",
            "\n",
            "\n",
            "Observation  41 :\n",
            "Observation:\n",
            "tf.Tensor([[1]], shape=(1, 1), dtype=int32)\n",
            "Action:\n",
            "tf.Tensor([2], shape=(1,), dtype=int32)\n",
            "Reward:\n",
            "tf.Tensor([[2.]], shape=(1, 1), dtype=float32)\n",
            "\n",
            "\n",
            "Observation  42 :\n",
            "Observation:\n",
            "tf.Tensor([[0]], shape=(1, 1), dtype=int32)\n",
            "Action:\n",
            "tf.Tensor([1], shape=(1,), dtype=int32)\n",
            "Reward:\n",
            "tf.Tensor([[0.]], shape=(1, 1), dtype=float32)\n",
            "\n",
            "\n",
            "Observation  43 :\n",
            "Observation:\n",
            "tf.Tensor([[-2]], shape=(1, 1), dtype=int32)\n",
            "Action:\n",
            "tf.Tensor([0], shape=(1,), dtype=int32)\n",
            "Reward:\n",
            "tf.Tensor([[0.]], shape=(1, 1), dtype=float32)\n",
            "\n",
            "\n",
            "Observation  44 :\n",
            "Observation:\n",
            "tf.Tensor([[2]], shape=(1, 1), dtype=int32)\n",
            "Action:\n",
            "tf.Tensor([2], shape=(1,), dtype=int32)\n",
            "Reward:\n",
            "tf.Tensor([[4.]], shape=(1, 1), dtype=float32)\n",
            "\n",
            "\n",
            "Observation  45 :\n",
            "Observation:\n",
            "tf.Tensor([[0]], shape=(1, 1), dtype=int32)\n",
            "Action:\n",
            "tf.Tensor([1], shape=(1,), dtype=int32)\n",
            "Reward:\n",
            "tf.Tensor([[0.]], shape=(1, 1), dtype=float32)\n",
            "\n",
            "\n",
            "Observation  46 :\n",
            "Observation:\n",
            "tf.Tensor([[-1]], shape=(1, 1), dtype=int32)\n",
            "Action:\n",
            "tf.Tensor([0], shape=(1,), dtype=int32)\n",
            "Reward:\n",
            "tf.Tensor([[0.]], shape=(1, 1), dtype=float32)\n",
            "\n",
            "\n",
            "Observation  47 :\n",
            "Observation:\n",
            "tf.Tensor([[2]], shape=(1, 1), dtype=int32)\n",
            "Action:\n",
            "tf.Tensor([2], shape=(1,), dtype=int32)\n",
            "Reward:\n",
            "tf.Tensor([[4.]], shape=(1, 1), dtype=float32)\n",
            "\n",
            "\n",
            "Observation  48 :\n",
            "Observation:\n",
            "tf.Tensor([[2]], shape=(1, 1), dtype=int32)\n",
            "Action:\n",
            "tf.Tensor([2], shape=(1,), dtype=int32)\n",
            "Reward:\n",
            "tf.Tensor([[4.]], shape=(1, 1), dtype=float32)\n",
            "\n",
            "\n",
            "Observation  49 :\n",
            "Observation:\n",
            "tf.Tensor([[1]], shape=(1, 1), dtype=int32)\n",
            "Action:\n",
            "tf.Tensor([2], shape=(1,), dtype=int32)\n",
            "Reward:\n",
            "tf.Tensor([[2.]], shape=(1, 1), dtype=float32)\n",
            "\n",
            "\n",
            "Observation  50 :\n",
            "Observation:\n",
            "tf.Tensor([[1]], shape=(1, 1), dtype=int32)\n",
            "Action:\n",
            "tf.Tensor([2], shape=(1,), dtype=int32)\n",
            "Reward:\n",
            "tf.Tensor([[2.]], shape=(1, 1), dtype=float32)\n",
            "\n",
            "\n",
            "Total Rewards:  tf.Tensor([[66.]], shape=(1, 1), dtype=float32)\n"
          ]
        }
      ]
    },
    {
      "cell_type": "markdown",
      "source": [
        "We can see total rewards as **66** in the above case"
      ],
      "metadata": {
        "id": "ypXYlXQ2I148"
      }
    },
    {
      "cell_type": "markdown",
      "source": [
        "#### **Exercise 2** – Create an environment\n",
        "\n",
        "**a. Define an environment will either always give reward = observation * action or reward = -observation * action. This will be decided when the environment is initialized.**"
      ],
      "metadata": {
        "id": "4hTtT8UAwB5o"
      }
    },
    {
      "cell_type": "code",
      "source": [
        "class TwoWayPyEnvironment(BanditPyEnvironment):\n",
        "\n",
        "  def __init__(self):\n",
        "    action_spec = array_spec.BoundedArraySpec(\n",
        "        shape=(), dtype=np.int32, minimum=0, maximum=2, name='action')\n",
        "    observation_spec = array_spec.BoundedArraySpec(\n",
        "        shape=(1,), dtype=np.int32, minimum=-5, maximum=5, name='observation')\n",
        "\n",
        "    # Flipping the sign with probability 1/2.\n",
        "    self._reward_sign = 2 * np.random.randint(2) - 1\n",
        "    print(\"reward sign:\")\n",
        "    print(self._reward_sign)\n",
        "\n",
        "    super(TwoWayPyEnvironment, self).__init__(observation_spec, action_spec)\n",
        "\n",
        "  def _observe(self):\n",
        "    self._observation = np.random.randint(-2, 3, (1,), dtype='int32')\n",
        "    return self._observation\n",
        "\n",
        "  def _apply_action(self, action):\n",
        "    return self._reward_sign * action * self._observation[0]\n",
        "\n",
        "two_way_tf_environment = tf_py_environment.TFPyEnvironment(TwoWayPyEnvironment())"
      ],
      "metadata": {
        "id": "YHl30wP7wUI4",
        "colab": {
          "base_uri": "https://localhost:8080/"
        },
        "outputId": "4fe935ab-0078-4854-b4e8-893fe6858cae"
      },
      "execution_count": 9,
      "outputs": [
        {
          "output_type": "stream",
          "name": "stdout",
          "text": [
            "reward sign:\n",
            "-1\n"
          ]
        }
      ]
    },
    {
      "cell_type": "markdown",
      "source": [
        "**b. Define a policy that detects the behavior of the underlying environment. There are three situations that the policy needs to handle:**\n",
        "\n",
        "1. The agent has not detected know yet which version of the environment is running.\n",
        "\n",
        "2. The  agent  detected  that  the  original  version  of  the  environment  is running.\n",
        "\n",
        "3. The  agent  detected  that  the  flipped  version  of  the  environment  is running."
      ],
      "metadata": {
        "id": "tCNbqDv8wjd3"
      }
    },
    {
      "cell_type": "markdown",
      "source": [
        "We define a tf_variable named _situation to store this information encoded as values in [0, 2], then make the policy behave accordingly."
      ],
      "metadata": {
        "id": "_3BxAhxr4F_9"
      }
    },
    {
      "cell_type": "code",
      "source": [
        "class TwoWaySignPolicy(tf_policy.TFPolicy):\n",
        "  def __init__(self, situation):\n",
        "    observation_spec = tensor_spec.BoundedTensorSpec(\n",
        "        shape=(1,), dtype=tf.int32, minimum=-5, maximum=5)\n",
        "    action_spec = tensor_spec.BoundedTensorSpec(\n",
        "        shape=(), dtype=tf.int32, minimum=0, maximum=2)\n",
        "    time_step_spec = ts.time_step_spec(observation_spec)\n",
        "    self._situation = situation\n",
        "    super(TwoWaySignPolicy, self).__init__(time_step_spec=time_step_spec,\n",
        "                                           action_spec=action_spec)\n",
        "  def _distribution(self, time_step):\n",
        "    pass\n",
        "\n",
        "  def _variables(self):\n",
        "    return [self._situation]\n",
        "\n",
        "  def _action(self, time_step, policy_state, seed):\n",
        "    sign = tf.cast(tf.sign(time_step.observation[0, 0]), dtype=tf.int32)\n",
        "    def case_unknown_fn():\n",
        "      # Choose 1 so that we get information on the sign.\n",
        "      return tf.constant(1, shape=(1,))\n",
        "\n",
        "    # Choose 0 or 2, depending on the situation and the sign of the observation.\n",
        "    def case_normal_fn():\n",
        "      return tf.constant(sign + 1, shape=(1,))\n",
        "    def case_flipped_fn():\n",
        "      return tf.constant(1 - sign, shape=(1,))\n",
        "\n",
        "    cases = [(tf.equal(self._situation, 0), case_unknown_fn),\n",
        "             (tf.equal(self._situation, 1), case_normal_fn),\n",
        "             (tf.equal(self._situation, 2), case_flipped_fn)]\n",
        "    action = tf.case(cases, exclusive=True)\n",
        "    return policy_step.PolicyStep(action, policy_state)"
      ],
      "metadata": {
        "id": "hH6N1zdmwjjw"
      },
      "execution_count": 10,
      "outputs": []
    },
    {
      "cell_type": "markdown",
      "source": [
        "**c.Define the agent that detects the sign of the environment and sets the policy appropriately.**"
      ],
      "metadata": {
        "id": "VZcowvTYw9dE"
      }
    },
    {
      "cell_type": "code",
      "source": [
        "class SignAgent(tf_agent.TFAgent):\n",
        "  def __init__(self):\n",
        "    self._situation = tf.Variable(0, dtype=tf.int32)\n",
        "    policy = TwoWaySignPolicy(self._situation)\n",
        "    time_step_spec = policy.time_step_spec\n",
        "    action_spec = policy.action_spec\n",
        "    super(SignAgent, self).__init__(time_step_spec=time_step_spec,\n",
        "                                    action_spec=action_spec,\n",
        "                                    policy=policy,\n",
        "                                    collect_policy=policy,\n",
        "                                    train_sequence_length=None)\n",
        "\n",
        "  def _initialize(self):\n",
        "    return tf.compat.v1.variables_initializer(self.variables)\n",
        "\n",
        "  def _train(self, experience, weights=None):\n",
        "    observation = experience.observation\n",
        "    action = experience.action\n",
        "    reward = experience.reward\n",
        "\n",
        "    # We only need to change the value of the situation variable if it is\n",
        "    # unknown (0) right now, and we can infer the situation only if the\n",
        "    # observation is not 0.\n",
        "    needs_action = tf.logical_and(tf.equal(self._situation, 0),\n",
        "                                  tf.not_equal(reward, 0))\n",
        "\n",
        "\n",
        "    def new_situation_fn():\n",
        "      \"\"\"This returns either 1 or 2, depending on the signs.\"\"\"\n",
        "      return (3 - tf.sign(tf.cast(observation[0, 0, 0], dtype=tf.int32) *\n",
        "                          tf.cast(action[0, 0], dtype=tf.int32) *\n",
        "                          tf.cast(reward[0, 0], dtype=tf.int32))) / 2\n",
        "\n",
        "    new_situation = tf.cond(needs_action,\n",
        "                            new_situation_fn,\n",
        "                            lambda: self._situation)\n",
        "    new_situation = tf.cast(new_situation, tf.int32)\n",
        "    tf.compat.v1.assign(self._situation, new_situation)\n",
        "    return tf_agent.LossInfo((), ())\n",
        "\n",
        "sign_agent = SignAgent()"
      ],
      "metadata": {
        "id": "PSTQxcnuw9hT"
      },
      "execution_count": 11,
      "outputs": []
    },
    {
      "cell_type": "markdown",
      "source": [
        "### **Conclusion:**\n",
        "* All the above defined environments and policies can now be used to further train and implement a MAB agent with specific ance metrics such as the *Regret metric.*\n",
        "\n",
        "(**Regret Metric:** difference between the reward collected by the agent and the expected reward of an oracle policy that has access to the reward functions of the environment.)\n"
      ],
      "metadata": {
        "id": "QT3ZT1eawnH-"
      }
    },
    {
      "cell_type": "code",
      "source": [
        "def compute_optimal_reward(observation):\n",
        "  expected_reward_for_arms = [\n",
        "      tf.linalg.matvec(observation, tf.cast(arm0_param, dtype=tf.float32)),\n",
        "      tf.linalg.matvec(observation, tf.cast(arm1_param, dtype=tf.float32)),\n",
        "      tf.linalg.matvec(observation, tf.cast(arm2_param, dtype=tf.float32))]\n",
        "  optimal_action_reward = tf.reduce_max(expected_reward_for_arms, axis=0)\n",
        "  return optimal_action_reward\n",
        "\n",
        "regret_metric = tf_metrics.RegretMetric(compute_optimal_reward)"
      ],
      "metadata": {
        "id": "G8rW2sb5G7-U"
      },
      "execution_count": 12,
      "outputs": []
    },
    {
      "cell_type": "markdown",
      "source": [
        "* Here, we are implementing the StationaryStochasticPyEnvironment. This environment takes as parameter a (usually noisy) function for giving observations (context), and for every arm takes an (also noisy) function that computes the reward based on the given observation.\n",
        "* The reward functions are linear functions of the context, plus some Gaussian noise."
      ],
      "metadata": {
        "id": "DLLbST3LHIBH"
      }
    },
    {
      "cell_type": "code",
      "source": [
        "batch_size = 2 # @param\n",
        "arm0_param = [-3, 0, 1, -2] # @param\n",
        "arm1_param = [1, -2, 3, 0] # @param\n",
        "arm2_param = [0, 0, 1, 1] # @param\n",
        "def context_sampling_fn(batch_size):\n",
        "  \"\"\"Contexts from [-10, 10]^4.\"\"\"\n",
        "  def _context_sampling_fn():\n",
        "    return np.random.randint(-10, 10, [batch_size, 4]).astype(np.float32)\n",
        "  return _context_sampling_fn\n",
        "\n",
        "class LinearNormalReward(object):\n",
        "  \"\"\"A class that acts as linear reward function when called.\"\"\"\n",
        "  def __init__(self, theta, sigma):\n",
        "    self.theta = theta\n",
        "    self.sigma = sigma\n",
        "  def __call__(self, x):\n",
        "    mu = np.dot(x, self.theta)\n",
        "    return np.random.normal(mu, self.sigma)\n",
        "\n",
        "arm0_reward_fn = LinearNormalReward(arm0_param, 1)\n",
        "arm1_reward_fn = LinearNormalReward(arm1_param, 1)\n",
        "arm2_reward_fn = LinearNormalReward(arm2_param, 1)\n",
        "\n",
        "environment = tf_py_environment.TFPyEnvironment(\n",
        "    sspe.StationaryStochasticPyEnvironment(\n",
        "        context_sampling_fn(batch_size),\n",
        "        [arm0_reward_fn, arm1_reward_fn, arm2_reward_fn],\n",
        "        batch_size=batch_size))\n",
        "\n"
      ],
      "metadata": {
        "id": "Y47bOrXO5a7_"
      },
      "execution_count": 13,
      "outputs": []
    },
    {
      "cell_type": "markdown",
      "source": [
        "The agent here is using the *LinUCB* algorithm\n"
      ],
      "metadata": {
        "id": "huEKBrw7Id3P"
      }
    },
    {
      "cell_type": "code",
      "source": [
        "observation_spec = tensor_spec.TensorSpec([4], tf.float32)\n",
        "time_step_spec = ts.time_step_spec(observation_spec)\n",
        "action_spec = tensor_spec.BoundedTensorSpec(\n",
        "    dtype=tf.int32, shape=(), minimum=0, maximum=2)\n",
        "\n",
        "agent = lin_ucb_agent.LinearUCBAgent(time_step_spec=time_step_spec,\n",
        "                                     action_spec=action_spec)"
      ],
      "metadata": {
        "id": "_465Aooe7DVU"
      },
      "execution_count": 14,
      "outputs": []
    },
    {
      "cell_type": "code",
      "source": [
        "import matplotlib.pyplot as plt\n",
        "\n",
        "num_iterations = 90 # @param\n",
        "steps_per_loop = 1 # @param\n",
        "\n",
        "replay_buffer = tf_uniform_replay_buffer.TFUniformReplayBuffer(\n",
        "    data_spec=agent.policy.trajectory_spec,\n",
        "    batch_size=batch_size,\n",
        "    max_length=steps_per_loop)\n",
        "\n",
        "observers = [replay_buffer.add_batch, regret_metric]\n",
        "\n",
        "driver = dynamic_step_driver.DynamicStepDriver(\n",
        "    env=environment,\n",
        "    policy=agent.collect_policy,\n",
        "    num_steps=steps_per_loop * batch_size,\n",
        "    observers=observers)\n",
        "\n",
        "regret_values = []\n",
        "\n",
        "for _ in range(num_iterations):\n",
        "  driver.run()\n",
        "  loss_info = agent.train(replay_buffer.gather_all())\n",
        "  replay_buffer.clear()\n",
        "  regret_values.append(regret_metric.result())\n",
        "\n",
        "plt.plot(regret_values)\n",
        "plt.ylabel('Average Regret')\n",
        "plt.xlabel('Number of Iterations')"
      ],
      "metadata": {
        "colab": {
          "base_uri": "https://localhost:8080/",
          "height": 368
        },
        "id": "0EZ4pQf_7DTH",
        "outputId": "9a5cf060-abae-4032-f338-ff1815f8bd67"
      },
      "execution_count": 15,
      "outputs": [
        {
          "output_type": "stream",
          "name": "stderr",
          "text": [
            "WARNING:tensorflow:From <ipython-input-15-49404e5a0f70>:23: ReplayBuffer.gather_all (from tf_agents.replay_buffers.replay_buffer) is deprecated and will be removed in a future version.\n",
            "Instructions for updating:\n",
            "Use `as_dataset(..., single_deterministic_pass=True)` instead.\n"
          ]
        },
        {
          "output_type": "execute_result",
          "data": {
            "text/plain": [
              "Text(0.5, 0, 'Number of Iterations')"
            ]
          },
          "metadata": {},
          "execution_count": 15
        },
        {
          "output_type": "display_data",
          "data": {
            "text/plain": [
              "<Figure size 432x288 with 1 Axes>"
            ],
            "image/png": "[encoded data removed]"
          },
          "metadata": {
            "needs_background": "light"
          }
        }
      ]
    },
    {
      "cell_type": "markdown",
      "source": [
        "### **Observation:**\n",
        "From the above resuting plot, we can see that it shows average Regret is decreasing as the agent is trained further. And the policy gets better in learning the right action to be taken for a given observation as input."
      ],
      "metadata": {
        "id": "dagzwjhUHu4Y"
      }
    },
    {
      "cell_type": "code",
      "source": [],
      "metadata": {
        "id": "NbpkoIWSIN9r"
      },
      "execution_count": 15,
      "outputs": []
    }
  ]
}