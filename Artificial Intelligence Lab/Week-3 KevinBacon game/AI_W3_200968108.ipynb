{
  "nbformat": 4,
  "nbformat_minor": 0,
  "metadata": {
    "colab": {
      "provenance": []
    },
    "kernelspec": {
      "name": "python3",
      "display_name": "Python 3"
    },
    "language_info": {
      "name": "python"
    }
  },
  "cells": [
    {
      "cell_type": "markdown",
      "source": [
        "## **200968108 Sec-A 27**\n",
        "## **Week-3** Problem Solving Agents & Search.\n",
        "\n",
        "### **The Game :**\n",
        "According to the “Six Degrees of Kevin Bacon” game, anyone in the Hollywood film\n",
        "industry can be connected to Kevin Bacon within six steps, where each step onsists of finding a film that two actors both starred in. To solve the problem, find the shortest path between any two actors by choosing a sequence of movies that connects them. For example, the shortest path between Jennifer Lawrence and Tom Hanks is 2:\n",
        "\n",
        "Jennifer Lawrence is connected to Kevin Bacon by both starring in “X-Men: First\n",
        "Class,” and Kevin Bacon is connected to Tom Hanks by both starring in “Apollo 13.”\n",
        "\n",
        "**Problem Solving Agent:**\n",
        "\n",
        "Given two actors nodes in the graph we need to find the distance (shortest path)\n",
        "between the nodes.\n",
        "\n",
        "Write a python program to determine how many “degrees of separation” apart two\n",
        "actors are. Find the distance or the degree of separation., using\n",
        "\n",
        "a. Breadth first search\n",
        "\n",
        "b. Depth first search\n",
        "\n",
        "**Distribution Code:**\n",
        "\n",
        "Data & Download the distribution code from:\n",
        "\n",
        "https://cdn.cs50.net/ai/2020/x/projects/0/degrees.zip\n",
        "\n",
        "The distribution code contains two sets of CSV data files: one set in the large directory and\n",
        "one set in the small directory. Use the small dataset for ease of testing and\n",
        "experimentation. Each dataset consists of three CSV files.\n",
        "\n",
        "1. small/people.csv: each person has a unique id, corresponding with their id in\n",
        "IMDb’s database. They also have a name, and a birth year.\n",
        "\n",
        "2. small/movies.csv: You’ll see here that each movie also has a unique id, in addition\n",
        "to a title and the year in which the movie was released.\n",
        "\n",
        "3. small/stars.csv: This file establishes a relationship between the people in\n",
        "people.csv and the movies in movies.csv. Each row is a pair of a person_id value\n",
        "and movie_id value.\n",
        "\n",
        "For example: The first row (ignoring the header), for example, states that the person with id 102 starred in the movie with id 104257. Checking that against people.csv and movies.csv, you’ll find that this line is saying that Kevin Bacon starred in the movie “A Few Good Men.”\n",
        "\n",
        "**4.degrees.py:**\n",
        "\n",
        "At the top, several data structures are defined to store information from the CSV\n",
        "files. The names dictionary is a way to look up a person by their name: it maps names to a set of corresponding ids (because it’s possible that multiple actors have the same name). The people dictionary maps each person’s id to another dictionary with values\n",
        "for the person’s name, birth year, and the set of all the movies they have starred in.\n",
        "\n",
        "And the movies dictionary maps each movie’s id to another dictionary with values for that movie’s title, release year, and the set of all the movie’s stars. The load_data function loads data from the CSV files into these data structures.\n",
        "\n",
        "The main function in this program first loads data into memory (the directory from\n",
        "which the data is loaded can be specified by a command-line argument). Then, the\n",
        "function prompts the user to type in two names. The person_id_for_name function\n",
        "retrieves the id for any person (and handles prompting the user to clarify, in the event that multiple people have the same name). The function then calls the shortest_path function to compute the shortest path between the two people, and prints out the path.\n",
        "\n",
        "**The shortest_path function has to be coded using**\n",
        "\n",
        "**a.Breadth First Search**\n",
        "\n",
        "**b.Depth First Search**"
      ],
      "metadata": {
        "id": "HXr3pmwXJ2hl"
      }
    },
    {
      "cell_type": "markdown",
      "source": [
        "*(Below is the code given in **utils.py**)*"
      ],
      "metadata": {
        "id": "WyKWgL_QLNXa"
      }
    },
    {
      "cell_type": "code",
      "execution_count": 55,
      "metadata": {
        "id": "cgOR3ONwIvQY"
      },
      "outputs": [],
      "source": [
        "class Node():\n",
        "    def __init__(self, state, parent, action):\n",
        "        self.state = state\n",
        "        self.parent = parent\n",
        "        self.action = action"
      ]
    },
    {
      "cell_type": "code",
      "source": [
        "class StackFrontier():\n",
        "    def __init__(self):\n",
        "        self.frontier = []\n",
        "\n",
        "    def add(self, node):\n",
        "        self.frontier.append(node)\n",
        "\n",
        "    def contains_state(self, state):\n",
        "        return any(node.state == state for node in self.frontier)\n",
        "\n",
        "    def empty(self):\n",
        "        return len(self.frontier) == 0\n",
        "\n",
        "    def remove(self):\n",
        "        if self.empty():\n",
        "            raise Exception(\"empty frontier\")\n",
        "        else:\n",
        "            node = self.frontier[-1]\n",
        "            self.frontier = self.frontier[:-1]\n",
        "            return node"
      ],
      "metadata": {
        "id": "EaWF240TLj9z"
      },
      "execution_count": 56,
      "outputs": []
    },
    {
      "cell_type": "code",
      "source": [
        "class QueueFrontier(StackFrontier):\n",
        "\n",
        "    def remove(self):\n",
        "        if self.empty():\n",
        "            raise Exception(\"empty frontier\")\n",
        "        else:\n",
        "            node = self.frontier[0]\n",
        "            self.frontier = self.frontier[1:]\n",
        "            return node"
      ],
      "metadata": {
        "id": "XvkroTzXLkAA"
      },
      "execution_count": 57,
      "outputs": []
    },
    {
      "cell_type": "markdown",
      "source": [
        "*(Below is the code given in **degrees.py**)*"
      ],
      "metadata": {
        "id": "5hVzf4NYLou2"
      }
    },
    {
      "cell_type": "code",
      "source": [
        "import csv\n",
        "import sys\n",
        "\n",
        "# uncomment the below line if you want to run in an editor\n",
        "# from util import Node, StackFrontier, QueueFrontier\n",
        "\n",
        "# Maps names to a set of corresponding person_ids\n",
        "names = {}\n",
        "\n",
        "# Maps person_ids to a dictionary of: name, birth, movies (a set of movie_ids)\n",
        "people = {}\n",
        "\n",
        "# Maps movie_ids to a dictionary of: title, year, stars (a set of person_ids)\n",
        "movies = {}"
      ],
      "metadata": {
        "id": "cN775dCzLXjl"
      },
      "execution_count": 58,
      "outputs": []
    },
    {
      "cell_type": "code",
      "source": [
        "def load_data(directory):\n",
        "    \"\"\"\n",
        "    Load data from CSV files into memory.\n",
        "    \"\"\"\n",
        "    # Load people\n",
        "    with open(f\"{directory}/people.csv\", encoding=\"utf-8\") as f:\n",
        "        reader = csv.DictReader(f)\n",
        "        for row in reader:\n",
        "            people[row[\"id\"]] = {\n",
        "                \"name\": row[\"name\"],\n",
        "                \"birth\": row[\"birth\"],\n",
        "                \"movies\": set()\n",
        "            }\n",
        "            if row[\"name\"].lower() not in names:\n",
        "                names[row[\"name\"].lower()] = {row[\"id\"]}\n",
        "            else:\n",
        "                names[row[\"name\"].lower()].add(row[\"id\"])\n",
        "\n",
        "    # Load movies\n",
        "    with open(f\"{directory}/movies.csv\", encoding=\"utf-8\") as f:\n",
        "        reader = csv.DictReader(f)\n",
        "        for row in reader:\n",
        "            movies[row[\"id\"]] = {\n",
        "                \"title\": row[\"title\"],\n",
        "                \"year\": row[\"year\"],\n",
        "                \"stars\": set()\n",
        "            }\n",
        "\n",
        "    # Load stars\n",
        "    with open(f\"{directory}/stars.csv\", encoding=\"utf-8\") as f:\n",
        "        reader = csv.DictReader(f)\n",
        "        for row in reader:\n",
        "            try:\n",
        "                people[row[\"person_id\"]][\"movies\"].add(row[\"movie_id\"])\n",
        "                movies[row[\"movie_id\"]][\"stars\"].add(row[\"person_id\"])\n",
        "            except KeyError:\n",
        "                pass"
      ],
      "metadata": {
        "id": "fz5MA3yjMCNM"
      },
      "execution_count": 59,
      "outputs": []
    },
    {
      "cell_type": "code",
      "source": [
        "def main():\n",
        "    \n",
        "    directory = sys.argv[1] if len(sys.argv) == 2 else \"/content/drive/MyDrive/Colab Notebooks/Sem 6 Labs/degrees/large\"\n",
        "\n",
        "    # Load data from files into memory\n",
        "    print(\"Loading data...\")\n",
        "    load_data(directory)\n",
        "    print(\"\\nData loaded.\\n\")\n",
        "\n",
        "    source = person_id_for_name(input(\"Name: \"))\n",
        "    if source is None:\n",
        "        sys.exit(\"Person not found.\")\n",
        "    target = person_id_for_name(input(\"Name: \"))\n",
        "    if target is None:\n",
        "        sys.exit(\"Person not found.\")\n",
        "\n",
        "    path = shortest_path(source, target)\n",
        "\n",
        "    if path is None:\n",
        "        print(\"Not connected.\")\n",
        "    else:\n",
        "        degrees = len(path)\n",
        "        print(f\"\\n{degrees} degrees of separation.\\n\")\n",
        "        path = [(None, source)] + path\n",
        "        for i in range(degrees):\n",
        "            person1 = people[path[i][1]][\"name\"]\n",
        "            person2 = people[path[i + 1][1]][\"name\"]\n",
        "            movie = movies[path[i + 1][0]][\"title\"]\n",
        "            print(f\"{i + 1}: {person1} and {person2} starred in {movie}\")"
      ],
      "metadata": {
        "id": "BPj0i1_KMCPb"
      },
      "execution_count": 60,
      "outputs": []
    },
    {
      "cell_type": "code",
      "source": [
        "def shortest_path(source, target):\n",
        "    \"\"\"\n",
        "    Returns the shortest list of (movie_id, person_id) pairs\n",
        "    that connect the source to the target.\n",
        "\n",
        "    If no possible path, returns None.\n",
        "    \"\"\"\n",
        "  \n",
        "    count_explored = 0\n",
        "    print(f\"\\nSearching: {count_explored}\", end=\"\", flush=True)\n",
        "\n",
        "    # Initiate starting node and frontier\n",
        "    start = Node(state=source, parent=None, action=None)\n",
        "    \n",
        "    opt = int(input(\"\\nDo you want to use DFS/BFS?: \\n 1. BFS\\n 2.DFS\\n\"))\n",
        "\n",
        "    if(opt == 1):\n",
        "      frontier = QueueFrontier()\n",
        "    elif(opt == 2):\n",
        "      frontier = StackFrontier()\n",
        "\n",
        "\n",
        "    frontier.add(start)\n",
        "\n",
        "    explored = set()\n",
        "\n",
        "    while True:\n",
        "        if frontier.empty(): # If frontier is empty, then no solution\n",
        "            print()\n",
        "            return None\n",
        "        \n",
        "        # Checkout node from frontier\n",
        "        node = frontier.remove()\n",
        "\n",
        "        # Update count\n",
        "        count_explored += 1\n",
        "        print(f\"\\rSearching: {count_explored}\", end=\"\", flush=True)            \n",
        "\n",
        "        # Mark node as explored\n",
        "        explored.add(node.state)\n",
        "\n",
        "        # Add neighbors to frontier\n",
        "        for action, state in neighbors_for_person(node.state):\n",
        "            if not frontier.contains_state(state) and state not in explored:\n",
        "                child = Node(state=state, parent=node, action=action)\n",
        "\n",
        "                # If child is the target, get solution\n",
        "                if child.state == target:\n",
        "                    node = child\n",
        "                    solution = []\n",
        "\n",
        "                    # Loop backwards to find solution\n",
        "                    while node.parent is not None:\n",
        "                        solution.append((node.action, node.state))\n",
        "                        node = node.parent\n",
        "\n",
        "                    # print newline\n",
        "                    print()\n",
        "\n",
        "                    # return reversed list\n",
        "                    return solution[::-1]\n",
        "                else:\n",
        "                    frontier.add(child)\n",
        "\n",
        "    # TODO\n",
        "    raise NotImplementedError"
      ],
      "metadata": {
        "id": "Ng0SWeKGMCRt"
      },
      "execution_count": 61,
      "outputs": []
    },
    {
      "cell_type": "code",
      "source": [
        "def person_id_for_name(name):\n",
        "    \"\"\"\n",
        "    Returns the IMDB id for a person's name,\n",
        "    resolving ambiguities as needed.\n",
        "    \"\"\"\n",
        "    person_ids = list(names.get(name.lower(), set()))\n",
        "    if len(person_ids) == 0:\n",
        "        return None\n",
        "    elif len(person_ids) > 1:\n",
        "        print(f\"Which '{name}'?\")\n",
        "        for person_id in person_ids:\n",
        "            person = people[person_id]\n",
        "            name = person[\"name\"]\n",
        "            birth = person[\"birth\"]\n",
        "            print(f\"ID: {person_id}, Name: {name}, Birth: {birth}\")\n",
        "        try:\n",
        "            person_id = input(\"\\nIntended Person ID: \")\n",
        "            if person_id in person_ids:\n",
        "                return person_id\n",
        "        except ValueError:\n",
        "            pass\n",
        "        return None\n",
        "    else:\n",
        "        return person_ids[0]"
      ],
      "metadata": {
        "id": "jArCK61uMIgp"
      },
      "execution_count": 62,
      "outputs": []
    },
    {
      "cell_type": "code",
      "source": [
        "def neighbors_for_person(person_id):\n",
        "    \"\"\"\n",
        "    Returns (movie_id, person_id) pairs for people\n",
        "    who starred with a given person.\n",
        "    \"\"\"\n",
        "    movie_ids = people[person_id][\"movies\"]\n",
        "    neighbors = set()\n",
        "    for movie_id in movie_ids:\n",
        "        for person_id in movies[movie_id][\"stars\"]:\n",
        "            neighbors.add((movie_id, person_id))\n",
        "    return neighbors"
      ],
      "metadata": {
        "id": "GhPd2g-_MIjJ"
      },
      "execution_count": 63,
      "outputs": []
    },
    {
      "cell_type": "markdown",
      "source": [
        "#### ***Finding the shortest path using BFS :***\n"
      ],
      "metadata": {
        "id": "c05CdpetZpL-"
      }
    },
    {
      "cell_type": "code",
      "source": [
        "'''\n",
        "  checking degree of separation for - William Holden & Kevin Bacon(ID: 102)\n",
        "'''\n",
        "# calling the main() function to execute the code\n",
        "main()"
      ],
      "metadata": {
        "colab": {
          "base_uri": "https://localhost:8080/"
        },
        "id": "4yFOCXgNMIlZ",
        "outputId": "bd22339f-0d97-460e-b6b3-e58ebba7934a"
      },
      "execution_count": 75,
      "outputs": [
        {
          "output_type": "stream",
          "name": "stdout",
          "text": [
            "Loading data...\n",
            "\n",
            "Data loaded.\n",
            "\n",
            "Name: William Holden\n",
            "Name: Kevin Bacon\n",
            "Which 'Kevin Bacon'?\n",
            "ID: 102, Name: Kevin Bacon, Birth: 1958\n",
            "ID: 9323132, Name: Kevin Bacon, Birth: \n",
            "\n",
            "Intended Person ID: 102\n",
            "\n",
            "Searching: 0\n",
            "Do you want to use DFS/BFS?: \n",
            " 1. BFS\n",
            " 2.DFS\n",
            "1\n",
            "Searching: 81\n",
            "\n",
            "3 degrees of separation.\n",
            "\n",
            "1: William Holden and Robert Duvall starred in Network\n",
            "2: Robert Duvall and Robert De Niro starred in The Godfather: Part II\n",
            "3: Robert De Niro and Kevin Bacon starred in Sleepers\n"
          ]
        }
      ]
    },
    {
      "cell_type": "code",
      "source": [
        "'''\n",
        "  checking degree of separation for - Cary Elwes & Colin Firth\n",
        "'''\n",
        "# calling the main() function to execute the code\n",
        "main()"
      ],
      "metadata": {
        "colab": {
          "base_uri": "https://localhost:8080/"
        },
        "id": "Vmy4jrzNl0xG",
        "outputId": "e1b2041c-fb2c-4654-fedb-e78eb05c6367"
      },
      "execution_count": 84,
      "outputs": [
        {
          "output_type": "stream",
          "name": "stdout",
          "text": [
            "Loading data...\n",
            "\n",
            "Data loaded.\n",
            "\n",
            "Name: Cary Elwes\n",
            "Name: Colin Firth\n",
            "\n",
            "Searching: 0\n",
            "Do you want to use DFS/BFS?: \n",
            " 1. BFS\n",
            " 2.DFS\n",
            "1\n",
            "Searching: 14\n",
            "\n",
            "2 degrees of separation.\n",
            "\n",
            "1: Cary Elwes and Mary Steenburgen starred in Wish You Were Dead\n",
            "2: Mary Steenburgen and Colin Firth starred in Hope Springs\n"
          ]
        }
      ]
    },
    {
      "cell_type": "markdown",
      "source": [
        "#### ***Finding the shortest path using DFS :***\n"
      ],
      "metadata": {
        "id": "NKvlNgifbzNd"
      }
    },
    {
      "cell_type": "code",
      "source": [
        "'''\n",
        "  checking degree of separation for - William Holden & Kevin Bacon(ID: 102)\n",
        "'''\n",
        "# calling the main() function to execute the code\n",
        "main()"
      ],
      "metadata": {
        "colab": {
          "base_uri": "https://localhost:8080/"
        },
        "id": "wTS2y_iykRVm",
        "outputId": "34ffedf7-20f6-4eea-b407-efc86ac20df8"
      },
      "execution_count": 77,
      "outputs": [
        {
          "output_type": "stream",
          "name": "stdout",
          "text": [
            "Loading data...\n",
            "\n",
            "Data loaded.\n",
            "\n",
            "Name: William Holden\n",
            "Name: Kevin Bacon\n",
            "Which 'Kevin Bacon'?\n",
            "ID: 102, Name: Kevin Bacon, Birth: 1958\n",
            "ID: 9323132, Name: Kevin Bacon, Birth: \n",
            "\n",
            "Intended Person ID: 102\n",
            "\n",
            "Searching: 0\n",
            "Do you want to use DFS/BFS?: \n",
            " 1. BFS\n",
            " 2.DFS\n",
            "2\n",
            "Searching: 20\n",
            "\n",
            "15 degrees of separation.\n",
            "\n",
            "1: William Holden and Ernest Borgnine starred in The Revengers\n",
            "2: Ernest Borgnine and Anne De Salvo starred in Spike of Bensonhurst\n",
            "3: Anne De Salvo and Loryn Locklin starred in Taking Care of Business\n",
            "4: Loryn Locklin and Clifton Collins Jr. starred in Fortress\n",
            "5: Clifton Collins Jr. and Kevin McNally starred in Painted Beauty\n",
            "6: Kevin McNally and Emily Bruni starred in King Lear: Live from Shakespeare's Globe\n",
            "7: Emily Bruni and Brad Gorton starred in The Case\n",
            "8: Brad Gorton and Stacy Hart starred in Get Real\n",
            "9: Stacy Hart and Charlie Bond starred in Dead Air\n",
            "10: Charlie Bond and Georgia Annable starred in Hellriser\n",
            "11: Georgia Annable and Adam Collins starred in Essex Heist\n",
            "12: Adam Collins and Vicki Glover starred in KillerSaurus\n",
            "13: Vicki Glover and Jane March starred in Jack the Giant Killer\n",
            "14: Jane March and Winston Ntshona starred in Tarzan and the Lost City\n",
            "15: Winston Ntshona and Kevin Bacon starred in The Air Up There\n"
          ]
        }
      ]
    },
    {
      "cell_type": "code",
      "source": [
        "'''\n",
        "  checking degree of separation for - Cary Elwes & Colin Firth\n",
        "'''\n",
        "# calling the main() function to execute the code\n",
        "main()"
      ],
      "metadata": {
        "colab": {
          "base_uri": "https://localhost:8080/"
        },
        "id": "rBnVvy66mH54",
        "outputId": "8e5dd733-567c-4c6b-e890-30b425abb9fd"
      },
      "execution_count": 85,
      "outputs": [
        {
          "output_type": "stream",
          "name": "stdout",
          "text": [
            "Loading data...\n",
            "\n",
            "Data loaded.\n",
            "\n",
            "Name: Cary Elwes\n",
            "Name: Colin Firth\n",
            "\n",
            "Searching: 0\n",
            "Do you want to use DFS/BFS?: \n",
            " 1. BFS\n",
            " 2.DFS\n",
            "2\n",
            "Searching: 20\n",
            "\n",
            "16 degrees of separation.\n",
            "\n",
            "1: Cary Elwes and Michael Biehn starred in Psych:9\n",
            "2: Michael Biehn and Sean Patrick Flanery starred in The Insatiable\n",
            "3: Sean Patrick Flanery and Michael Paré starred in Raging Angels\n",
            "4: Michael Paré and John Fallon starred in The Shelter\n",
            "5: John Fallon and Claudia Jurt starred in Deaden\n",
            "6: Claudia Jurt and Erica Anderson starred in Little Death\n",
            "7: Erica Anderson and Cindel Chartrand starred in Maz\n",
            "8: Cindel Chartrand and Alexandra Woodward starred in Misbehaviour\n",
            "9: Alexandra Woodward and Neal McDonough starred in Silent Men\n",
            "10: Neal McDonough and Amy Smart starred in Bad Country\n",
            "11: Amy Smart and David Cubitt starred in No Clue\n",
            "12: David Cubitt and Chandra West starred in A Perfect Son\n",
            "13: Chandra West and Tom Cavanagh starred in Something More\n",
            "14: Tom Cavanagh and David Mazouz starred in The Games Maker\n",
            "15: David Mazouz and Kevin Bacon starred in The Darkness\n",
            "16: Kevin Bacon and Colin Firth starred in Where the Truth Lies\n"
          ]
        }
      ]
    },
    {
      "cell_type": "markdown",
      "source": [
        "#### **Observation:**\n",
        "* From the above output, we can observe that the Degree of Separation is always higher in case of DFS search(more than 15 and sometimes more than 50) compared to BFS search(always less than or equal to 6).\n",
        "* This indicates the high time and space complexity in DFS than BFS.\n",
        "* We can conclude that BFS search works better and is always more preferable over DFS search."
      ],
      "metadata": {
        "id": "QbEWAFZrlqPh"
      }
    },
    {
      "cell_type": "code",
      "source": [],
      "metadata": {
        "id": "1gFnaYbEnrI7"
      },
      "execution_count": null,
      "outputs": []
    }
  ]
}