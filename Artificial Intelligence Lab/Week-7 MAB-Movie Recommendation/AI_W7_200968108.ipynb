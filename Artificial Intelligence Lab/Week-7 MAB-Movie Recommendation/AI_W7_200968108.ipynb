{
  "cells": [
    {
      "cell_type": "markdown",
      "source": [
        "### **Week-7:** Multi-Armed Bandits - MOVIE RECOMMENDATION\n",
        "### **Name:** Atyam V V R Manoj\n",
        "### **Reg No. | Sec :** 200968108 | DSE-A 27"
      ],
      "metadata": {
        "id": "4mi0Yo7yedks"
      }
    },
    {
      "cell_type": "markdown",
      "source": [
        "**Importing required libraries**"
      ],
      "metadata": {
        "id": "rtXe5dXqeiXJ"
      }
    },
    {
      "cell_type": "code",
      "execution_count": 1,
      "metadata": {
        "id": "TE5sTYsXMmct",
        "colab": {
          "base_uri": "https://localhost:8080/"
        },
        "outputId": "1e322e3e-79c5-44cf-f19f-d441cad33827"
      },
      "outputs": [
        {
          "output_type": "stream",
          "name": "stdout",
          "text": [
            "Looking in indexes: https://pypi.org/simple, https://us-python.pkg.dev/colab-wheels/public/simple/\n",
            "Collecting tf_agents\n",
            "  Downloading tf_agents-0.15.0-py3-none-any.whl (1.4 MB)\n",
            "\u001b[2K     \u001b[90m━━━━━━━━━━━━━━━━━━━━━━━━━━━━━━━━━━━━━━━━\u001b[0m \u001b[32m1.4/1.4 MB\u001b[0m \u001b[31m19.8 MB/s\u001b[0m eta \u001b[36m0:00:00\u001b[0m\n",
            "\u001b[?25hRequirement already satisfied: absl-py>=0.6.1 in /usr/local/lib/python3.9/dist-packages (from tf_agents) (1.4.0)\n",
            "Requirement already satisfied: cloudpickle>=1.3 in /usr/local/lib/python3.9/dist-packages (from tf_agents) (2.2.1)\n",
            "Requirement already satisfied: gin-config>=0.4.0 in /usr/local/lib/python3.9/dist-packages (from tf_agents) (0.5.0)\n",
            "Requirement already satisfied: numpy>=1.13.3 in /usr/local/lib/python3.9/dist-packages (from tf_agents) (1.22.4)\n",
            "Requirement already satisfied: protobuf>=3.11.3 in /usr/local/lib/python3.9/dist-packages (from tf_agents) (3.19.6)\n",
            "Requirement already satisfied: tensorflow-probability>=0.18.0 in /usr/local/lib/python3.9/dist-packages (from tf_agents) (0.19.0)\n",
            "Collecting gym<=0.23.0,>=0.17.0\n",
            "  Downloading gym-0.23.0.tar.gz (624 kB)\n",
            "\u001b[2K     \u001b[90m━━━━━━━━━━━━━━━━━━━━━━━━━━━━━━━━━━━━━━\u001b[0m \u001b[32m624.4/624.4 KB\u001b[0m \u001b[31m36.2 MB/s\u001b[0m eta \u001b[36m0:00:00\u001b[0m\n",
            "\u001b[?25h  Installing build dependencies ... \u001b[?25l\u001b[?25hdone\n",
            "  Getting requirements to build wheel ... \u001b[?25l\u001b[?25hdone\n",
            "  Preparing metadata (pyproject.toml) ... \u001b[?25l\u001b[?25hdone\n",
            "Requirement already satisfied: typing-extensions>=3.7.4.3 in /usr/local/lib/python3.9/dist-packages (from tf_agents) (4.5.0)\n",
            "Requirement already satisfied: pillow in /usr/local/lib/python3.9/dist-packages (from tf_agents) (8.4.0)\n",
            "Requirement already satisfied: wrapt>=1.11.1 in /usr/local/lib/python3.9/dist-packages (from tf_agents) (1.15.0)\n",
            "Requirement already satisfied: six>=1.10.0 in /usr/local/lib/python3.9/dist-packages (from tf_agents) (1.16.0)\n",
            "Collecting pygame==2.1.0\n",
            "  Downloading pygame-2.1.0-cp39-cp39-manylinux_2_17_x86_64.manylinux2014_x86_64.whl (18.3 MB)\n",
            "\u001b[2K     \u001b[90m━━━━━━━━━━━━━━━━━━━━━━━━━━━━━━━━━━━━━━━━\u001b[0m \u001b[32m18.3/18.3 MB\u001b[0m \u001b[31m32.1 MB/s\u001b[0m eta \u001b[36m0:00:00\u001b[0m\n",
            "\u001b[?25hRequirement already satisfied: gym-notices>=0.0.4 in /usr/local/lib/python3.9/dist-packages (from gym<=0.23.0,>=0.17.0->tf_agents) (0.0.8)\n",
            "Requirement already satisfied: importlib-metadata>=4.10.0 in /usr/local/lib/python3.9/dist-packages (from gym<=0.23.0,>=0.17.0->tf_agents) (6.1.0)\n",
            "Requirement already satisfied: decorator in /usr/local/lib/python3.9/dist-packages (from tensorflow-probability>=0.18.0->tf_agents) (4.4.2)\n",
            "Requirement already satisfied: dm-tree in /usr/local/lib/python3.9/dist-packages (from tensorflow-probability>=0.18.0->tf_agents) (0.1.8)\n",
            "Requirement already satisfied: gast>=0.3.2 in /usr/local/lib/python3.9/dist-packages (from tensorflow-probability>=0.18.0->tf_agents) (0.4.0)\n",
            "Requirement already satisfied: zipp>=0.5 in /usr/local/lib/python3.9/dist-packages (from importlib-metadata>=4.10.0->gym<=0.23.0,>=0.17.0->tf_agents) (3.15.0)\n",
            "Building wheels for collected packages: gym\n",
            "  Building wheel for gym (pyproject.toml) ... \u001b[?25l\u001b[?25hdone\n",
            "  Created wheel for gym: filename=gym-0.23.0-py3-none-any.whl size=697662 sha256=056f1e178c0108b8182deeb631feec40a36cecaf2ac3293519de313dba7bf18a\n",
            "  Stored in directory: /root/.cache/pip/wheels/96/b9/bb/994c1324b65e39dd1cd7b8ba92e5fb766dd77980929414a866\n",
            "Successfully built gym\n",
            "Installing collected packages: pygame, gym, tf_agents\n",
            "  Attempting uninstall: gym\n",
            "    Found existing installation: gym 0.25.2\n",
            "    Uninstalling gym-0.25.2:\n",
            "      Successfully uninstalled gym-0.25.2\n",
            "Successfully installed gym-0.23.0 pygame-2.1.0 tf_agents-0.15.0\n"
          ]
        }
      ],
      "source": [
        "import tensorflow as tf\n",
        "!pip install tf_agents\n",
        "import tf_agents\n",
        "from tf_agents.bandits.environments import movielens_py_environment\n",
        "from tf_agents.environments import tf_py_environment\n",
        "from tf_agents.bandits.environments import environment_utilities\n",
        "from tf_agents.bandits.metrics import tf_metrics as tf_bandit_metrics\n",
        "from tf_agents.bandits.agents import lin_ucb_agent\n",
        "from tf_agents.bandits.agents import linear_thompson_sampling_agent as lin_ts_agent\n",
        "from tf_agents.networks import q_network\n",
        "from tf_agents.bandits.agents import neural_epsilon_greedy_agent as eps_greedy_agent\n",
        "from tf_agents.bandits.agents.examples.v2 import trainer\n",
        "from tf_agents.replay_buffers import tf_uniform_replay_buffer\n",
        "from tf_agents.drivers import driver\n",
        "from tf_agents.drivers import dynamic_step_driver\n",
        "from tf_agents.policies import random_tf_policy\n",
        "import functools\n",
        "import os\n",
        "import numpy as np\n",
        "from matplotlib import pyplot as plt"
      ]
    },
    {
      "cell_type": "markdown",
      "source": [
        "### **1. Write down the *“Movie Recommendation”* as a Reinforcement Learning problem formulation.**\n",
        "We can formulate reinforcement learning approaches to building a movie recommendation system as a contextual multi-armed bandit, learning user preferences recommending new movies and receiving their ratings.\n",
        "\n",
        "*In the context of movie recommendations,*\n",
        "* **State:** The current state includes the user's profile, including their previous movie choices, ratings, and preferences.\n",
        "\n",
        "* **Action:** The agent **recommends** a movie to the user based on the current state.\n",
        "\n",
        "* **Reward:** The reward is the **rating/feedback** given by the user. If the user likes the movie, the reward is positive, and if the user does not like the movie, the reward is negative.\n",
        "\n",
        "* **Policy:** The policy is the **decision-making process(model training)** that the agent follows to select an action in a given state. The policy should maximize the cumulative reward over the long term.\n",
        "\n",
        "* **Value function:** The value function is used to estimate the long-term reward that the agent can expect to receive from a given state and action. It can be used to evaluate the quality of the policy and to update it based on experience.\n",
        "\n",
        "The objective of this problem is to train a policy that maximizes user's satisfaction based on the movies recommended. The agent should be able to adapt to the changes in the reward given by the user and provide the best actions possible.\n",
        "\n",
        ">Once the policy *(model)* is trained, we can generate actions upon receiving the unseen observation.\n",
        "\n",
        "In this context, we find another advantage using a reinforcement learning model, which accounts for balance in exploration and exploitation. Not only does the algorithm suggests the users, the content they might find most useful, but it will also suggest some random content, inducing new interest in them."
      ],
      "metadata": {
        "id": "jFo6Os0wenCs"
      }
    },
    {
      "cell_type": "markdown",
      "source": [
        "**Loading the data**"
      ],
      "metadata": {
        "id": "Z8OxAMB7enY7"
      }
    },
    {
      "cell_type": "code",
      "source": [
        "BATCH_SIZE = 8\n",
        "TRAINING_LOOPS = 1000\n",
        "STEPS_PER_LOOP = 2\n",
        "RANK_K = 20\n",
        "NUM_ACTIONS = 20\n",
        "\n",
        "data_path = '/content/drive/MyDrive/Colab Notebooks/Sem 6 Labs/ml-100k/u.data'\n",
        "root_dir = '/content/checkpoints'"
      ],
      "metadata": {
        "id": "H32fGi8xedI9"
      },
      "execution_count": 2,
      "outputs": []
    },
    {
      "cell_type": "markdown",
      "source": [
        "### **2. For the environment, use the built-in TF-agent, MovieLensPyEnvironment (nonper-arm)**\n",
        "https://github.com/tensorflow/agents/blob/master/tf_agents/bandits/environments/movielens_py_environment.py"
      ],
      "metadata": {
        "id": "eFR3Itzoewwo"
      }
    },
    {
      "cell_type": "code",
      "execution_count": null,
      "metadata": {
        "id": "iCJiJxxMeus8"
      },
      "outputs": [],
      "source": [
        "env = movielens_py_environment.MovieLensPyEnvironment(\n",
        "        data_path,\n",
        "        RANK_K,\n",
        "        BATCH_SIZE,\n",
        "        num_movies=NUM_ACTIONS,\n",
        "        csv_delimiter='\\t')\n",
        "environment = tf_py_environment.TFPyEnvironment(env)"
      ]
    },
    {
      "cell_type": "code",
      "execution_count": null,
      "metadata": {
        "id": "ScwEK6JOeqLM"
      },
      "outputs": [],
      "source": [
        "# functions to get the optimal rewards\n",
        "optimal_reward_fn = functools.partial(\n",
        "      environment_utilities.compute_optimal_reward_with_movielens_environment,\n",
        "      environment=environment)\n",
        "\n",
        "# functions to get the optimal action\n",
        "optimal_action_fn = functools.partial(\n",
        "      environment_utilities.compute_optimal_action_with_movielens_environment,\n",
        "      environment=environment)"
      ]
    },
    {
      "cell_type": "markdown",
      "source": [
        "### **3. Compute the regret using the built-in metric in TF-agents**\n",
        "https://github.com/tensorflow/agents/blob/master/tf_agents/bandits/metrics/tf_metrics.py"
      ],
      "metadata": {
        "id": "yfqpUaDpe14O"
      }
    },
    {
      "cell_type": "code",
      "source": [
        "# using the built-in metric for regret\n",
        "regret_metric = tf_bandit_metrics.RegretMetric(optimal_reward_fn)\n",
        "suboptimal_arms_metric = tf_bandit_metrics.SuboptimalArmsMetric(optimal_action_fn)"
      ],
      "metadata": {
        "id": "n2qHFk_ue4xl"
      },
      "execution_count": null,
      "outputs": []
    },
    {
      "cell_type": "markdown",
      "source": [
        "### **4. Plot the regret against 20,000-time steps using the built-in agents:**\n",
        "a.LinUCB \n",
        "\n",
        "b. LinTS \n",
        "\n",
        "c. NeuralEpsilonGreedy\n",
        "\n",
        "And identify the best agent for the movie recommendation"
      ],
      "metadata": {
        "id": "tOhKHeWne6d-"
      }
    },
    {
      "cell_type": "code",
      "execution_count": null,
      "metadata": {
        "id": "o9ZOYyTHeln9"
      },
      "outputs": [],
      "source": [
        "# a. defining LinUCB action method\n",
        "\n",
        "AGENT_ALPHA = 10.0\n",
        "linucb = lin_ucb_agent.LinearUCBAgent(\n",
        "        time_step_spec=environment.time_step_spec(),\n",
        "        action_spec=environment.action_spec(),\n",
        "        tikhonov_weight=0.001,\n",
        "        alpha=AGENT_ALPHA,\n",
        "        dtype=tf.float32,\n",
        "        accepts_per_arm_features=False)\n",
        "\n",
        "\n",
        "# b. defining LinTS action method\n",
        "\n",
        "lints = lin_ts_agent.LinearThompsonSamplingAgent(\n",
        "        time_step_spec=environment.time_step_spec(),\n",
        "        action_spec=environment.action_spec(),\n",
        "        dtype=tf.float32,\n",
        "        accepts_per_arm_features=False)\n",
        "\n",
        "# c. defining NeuralEpsilonGreedy action method\n",
        "\n",
        "EPSILON = 0.03\n",
        "LAYERS = (50, 50, 50)\n",
        "LR = 0.005\n",
        "network = q_network.QNetwork(\n",
        "          input_tensor_spec=environment.time_step_spec().observation,\n",
        "          action_spec=environment.action_spec(),\n",
        "          fc_layer_params=LAYERS)\n",
        "neureps = eps_greedy_agent.NeuralEpsilonGreedyAgent(\n",
        "        time_step_spec=environment.time_step_spec(),\n",
        "        action_spec=environment.action_spec(),\n",
        "        reward_network=network,\n",
        "        optimizer=tf.compat.v1.train.AdamOptimizer(learning_rate=LR),\n",
        "        epsilon=EPSILON,\n",
        "        emit_policy_info='predicted_rewards_mean',\n",
        "        info_fields_to_inherit_from_greedy=['predicted_rewards_mean'])"
      ]
    },
    {
      "cell_type": "code",
      "execution_count": null,
      "metadata": {
        "id": "Eo8_Pb5LeLrP"
      },
      "outputs": [],
      "source": [
        "def train(agent):\n",
        "\n",
        "  if agent == 'LinUCB':\n",
        "    agent = linucb\n",
        "  elif agent == 'LinTS':\n",
        "    agent = lints\n",
        "  elif agent == 'NeurEps':\n",
        "    agent = neureps\n",
        "\n",
        "\n",
        "  replay_buffer = tf_uniform_replay_buffer.TFUniformReplayBuffer(\n",
        "    data_spec=agent.policy.trajectory_spec,\n",
        "    batch_size=BATCH_SIZE,\n",
        "    max_length=STEPS_PER_LOOP)\n",
        "\n",
        "  observers = [replay_buffer.add_batch, regret_metric]\n",
        "\n",
        "  driver = dynamic_step_driver.DynamicStepDriver(\n",
        "      env=environment,\n",
        "      policy=agent.collect_policy,\n",
        "      num_steps=STEPS_PER_LOOP * BATCH_SIZE,\n",
        "      observers=observers)\n",
        "\n",
        "  regret_values = []\n",
        "\n",
        "  for _ in range(TRAINING_LOOPS):\n",
        "    driver.run()\n",
        "    loss_info = agent.train(replay_buffer.gather_all())\n",
        "    replay_buffer.clear()\n",
        "    regret_values.append(regret_metric.result())\n",
        "\n",
        "  return regret_values, agent"
      ]
    },
    {
      "cell_type": "markdown",
      "source": [
        "**Plotting the regret for LinUCB:**"
      ],
      "metadata": {
        "id": "JAFcuK5IfAQ-"
      }
    },
    {
      "cell_type": "code",
      "execution_count": null,
      "metadata": {
        "colab": {
          "base_uri": "https://localhost:8080/",
          "height": 384
        },
        "id": "86QsVmXrwGau",
        "outputId": "c74b9d45-f5ec-4638-e370-54d71ddb4b34"
      },
      "outputs": [
        {
          "name": "stderr",
          "output_type": "stream",
          "text": [
            "WARNING:tensorflow:From <ipython-input-10-eb5acd4db2a6>:28: ReplayBuffer.gather_all (from tf_agents.replay_buffers.replay_buffer) is deprecated and will be removed in a future version.\n",
            "Instructions for updating:\n",
            "Use `as_dataset(..., single_deterministic_pass=True)` instead.\n"
          ]
        },
        {
          "data": {
            "text/plain": [
              "Text(0, 0.5, 'Average Regret')"
            ]
          },
          "execution_count": 11,
          "metadata": {},
          "output_type": "execute_result"
        },
        {
          "data": {
            "image/png": "[encoded data removed]",
            "text/plain": [
              "<Figure size 432x288 with 1 Axes>"
            ]
          },
          "metadata": {
            "needs_background": "light"
          },
          "output_type": "display_data"
        }
      ],
      "source": [
        "regret_values_linucb, linucb_agent = train('LinUCB')\n",
        "plt.plot(regret_values_linucb)\n",
        "plt.title('Regret over Timesteps LinUCB')\n",
        "plt.xlabel('Number of Iterations')\n",
        "plt.ylabel('Average Regret')"
      ]
    },
    {
      "cell_type": "code",
      "execution_count": null,
      "metadata": {
        "colab": {
          "base_uri": "https://localhost:8080/"
        },
        "id": "s9_uNF-nHH36",
        "outputId": "dc59f370-d68b-426e-a7bc-c34ad616e478"
      },
      "outputs": [
        {
          "data": {
            "text/plain": [
              "<tf.Tensor: shape=(), dtype=float32, numpy=215.5>"
            ]
          },
          "execution_count": 12,
          "metadata": {},
          "output_type": "execute_result"
        }
      ],
      "source": [
        "sum(regret_values_linucb)"
      ]
    },
    {
      "cell_type": "markdown",
      "source": [
        "**Plotting the regret for LinTS:**"
      ],
      "metadata": {
        "id": "3tUa1KczfB6Y"
      }
    },
    {
      "cell_type": "code",
      "execution_count": null,
      "metadata": {
        "colab": {
          "base_uri": "https://localhost:8080/",
          "height": 312
        },
        "id": "GCWNNymFMuv1",
        "outputId": "eae61e22-47c7-442c-f8d8-e3ac401d31bd"
      },
      "outputs": [
        {
          "data": {
            "text/plain": [
              "Text(0, 0.5, 'Average Regret')"
            ]
          },
          "execution_count": 13,
          "metadata": {},
          "output_type": "execute_result"
        },
        {
          "data": {
            "image/png": "[encoded data removed]",
            "text/plain": [
              "<Figure size 432x288 with 1 Axes>"
            ]
          },
          "metadata": {
            "needs_background": "light"
          },
          "output_type": "display_data"
        }
      ],
      "source": [
        "regret_values_lints, lints_agent = train('LinTS')\n",
        "plt.plot(regret_values_lints)\n",
        "plt.title('Regret over Timesteps LinTS')\n",
        "plt.xlabel('Number of Iterations')\n",
        "plt.ylabel('Average Regret')"
      ]
    },
    {
      "cell_type": "code",
      "execution_count": null,
      "metadata": {
        "colab": {
          "base_uri": "https://localhost:8080/"
        },
        "id": "UyIyFOF4HLQc",
        "outputId": "2373d1a9-d6d6-420c-bdeb-eb72aa3f1c5c"
      },
      "outputs": [
        {
          "data": {
            "text/plain": [
              "<tf.Tensor: shape=(), dtype=float32, numpy=76.5>"
            ]
          },
          "execution_count": 14,
          "metadata": {},
          "output_type": "execute_result"
        }
      ],
      "source": [
        "sum(regret_values_lints)"
      ]
    },
    {
      "cell_type": "markdown",
      "source": [
        "**Plotting the regret for NeuralEpsilonGreedy:**"
      ],
      "metadata": {
        "id": "5Hn3hu6vfFDh"
      }
    },
    {
      "cell_type": "code",
      "execution_count": null,
      "metadata": {
        "colab": {
          "base_uri": "https://localhost:8080/",
          "height": 312
        },
        "id": "aBX-7qrMNaIK",
        "outputId": "f8ebaace-e433-43ae-8d36-9220b6809476"
      },
      "outputs": [
        {
          "data": {
            "text/plain": [
              "Text(0, 0.5, 'Average Regret')"
            ]
          },
          "execution_count": 15,
          "metadata": {},
          "output_type": "execute_result"
        },
        {
          "data": {
            "image/png": "[encoded data removed]",
            "text/plain": [
              "<Figure size 432x288 with 1 Axes>"
            ]
          },
          "metadata": {
            "needs_background": "light"
          },
          "output_type": "display_data"
        }
      ],
      "source": [
        "regret_values_neureps, neureps_agent = train('NeurEps')\n",
        "plt.plot(regret_values_neureps)\n",
        "plt.title('Regret over Timesteps NeurEps')\n",
        "plt.xlabel('Number of Iterations')\n",
        "plt.ylabel('Average Regret')"
      ]
    },
    {
      "cell_type": "code",
      "execution_count": null,
      "metadata": {
        "colab": {
          "base_uri": "https://localhost:8080/"
        },
        "id": "H_qhKAyUHVUS",
        "outputId": "ed52dd3e-07f3-4bd6-fcd8-96ad8876c356"
      },
      "outputs": [
        {
          "data": {
            "text/plain": [
              "<tf.Tensor: shape=(), dtype=float32, numpy=888.875>"
            ]
          },
          "execution_count": 16,
          "metadata": {},
          "output_type": "execute_result"
        }
      ],
      "source": [
        "sum(regret_values_neureps)"
      ]
    },
    {
      "cell_type": "markdown",
      "source": [
        "### **Conclusion:**\n",
        "From the above plots, we can observe that Thompson Sampling**(LinTS)** agent shows the least regret among the other two. So we can conclude it is the best agent among the three."
      ],
      "metadata": {
        "id": "Bri01Ar-gODs"
      }
    },
    {
      "cell_type": "markdown",
      "source": [
        "### **5. Write the Recommendation policy, given a new observation request (i.e. a user vector), the policy will produce actions, which are the recommended movies.**"
      ],
      "metadata": {
        "id": "b6a04DQOfHE3"
      }
    },
    {
      "cell_type": "code",
      "execution_count": null,
      "metadata": {
        "id": "zrY-_6q4HXeP"
      },
      "outputs": [],
      "source": [
        "# function to recommend movies based on agent and observation\n",
        "def recommend_movies(agent, observation):\n",
        "    time_step = tf_agents.trajectories.time_step.TimeStep(\n",
        "        step_type=tf.constant([[2]], dtype=tf.int32),\n",
        "        reward=tf.constant([[0.0]], dtype=tf.float32),\n",
        "        discount=tf.constant([[1.0]], dtype=tf.float32),\n",
        "        observation=observation)\n",
        "    \n",
        "    action_step = agent.policy.action(time_step)\n",
        "    return action_step.action.numpy()[0]"
      ]
    },
    {
      "cell_type": "code",
      "execution_count": null,
      "metadata": {
        "colab": {
          "base_uri": "https://localhost:8080/"
        },
        "id": "YtXEbpAOhqnq",
        "outputId": "08ad3d7b-1214-4aa2-b70f-70861d05a67f"
      },
      "outputs": [
        {
          "data": {
            "text/plain": [
              "13"
            ]
          },
          "execution_count": 18,
          "metadata": {},
          "output_type": "execute_result"
        }
      ],
      "source": [
        "observation = np.array([1, 25, 35, 0, 1, 0, 1, 0, 0, 1, 0, 0, 0, 0, 1, 1, 0, 0, 1, 1])\n",
        "observation = np.expand_dims(observation, axis=0)\n",
        "recommend_movies(lints_agent, observation=observation)"
      ]
    }
  ],
  "metadata": {
    "accelerator": "GPU",
    "colab": {
      "provenance": []
    },
    "gpuClass": "standard",
    "kernelspec": {
      "display_name": "Python 3",
      "name": "python3"
    },
    "language_info": {
      "name": "python"
    }
  },
  "nbformat": 4,
  "nbformat_minor": 0
}