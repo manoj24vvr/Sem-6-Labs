{
  "nbformat": 4,
  "nbformat_minor": 0,
  "metadata": {
    "colab": {
      "provenance": []
    },
    "kernelspec": {
      "name": "python3",
      "display_name": "Python 3"
    },
    "language_info": {
      "name": "python"
    }
  },
  "cells": [
    {
      "cell_type": "markdown",
      "source": [
        "### **Week-6:** MULTI-ARMED BANDITS –AD OPTIMIZATION\n",
        "### **Name:** Atyam V V R Manoj\n",
        "### **Reg No. | Sec :** 200968108 | DSE-A 27"
      ],
      "metadata": {
        "id": "bvxf2u4_sGNi"
      }
    },
    {
      "cell_type": "markdown",
      "source": [
        "#### **Problem:**\n",
        "Consider the given dataset “Ads_clicks” containing data about which add was clicked in each time step. Suppose an advertising company is running 10 different ads targeted towards a similar set of the population on a webpage. We have results for which ads were clicked by a user Each column index represents a different ad. We have a 1 if the ad was clicked by a user, and 0 if it was not."
      ],
      "metadata": {
        "id": "hwqCgZa--eOS"
      }
    },
    {
      "cell_type": "markdown",
      "source": [
        "**Importing required libraries**"
      ],
      "metadata": {
        "id": "xINnMfJJFjtg"
      }
    },
    {
      "cell_type": "code",
      "execution_count": null,
      "metadata": {
        "id": "eu3_oJBurMS8",
        "colab": {
          "base_uri": "https://localhost:8080/",
          "height": 206
        },
        "outputId": "3167c673-1efa-450b-9e30-00159879cee4"
      },
      "outputs": [
        {
          "output_type": "execute_result",
          "data": {
            "text/plain": [
              "   Ad 1  Ad 2  Ad 3  Ad 4  Ad 5  Ad 6  Ad 7  Ad 8  Ad 9  Ad 10\n",
              "0     1     0     0     0     1     0     0     0     1      0\n",
              "1     0     0     0     0     0     0     0     0     1      0\n",
              "2     0     0     0     0     0     0     0     0     0      0\n",
              "3     0     1     0     0     0     0     0     1     0      0\n",
              "4     0     0     0     0     0     0     0     0     0      0"
            ],
            "text/html": [
              "\n",
              "  <div id=\"df-9142564a-6672-4766-9251-5cf3079ce1f8\">\n",
              "    <div class=\"colab-df-container\">\n",
              "      <div>\n",
              "<style scoped>\n",
              "    .dataframe tbody tr th:only-of-type {\n",
              "        vertical-align: middle;\n",
              "    }\n",
              "\n",
              "    .dataframe tbody tr th {\n",
              "        vertical-align: top;\n",
              "    }\n",
              "\n",
              "    .dataframe thead th {\n",
              "        text-align: right;\n",
              "    }\n",
              "</style>\n",
              "<table border=\"1\" class=\"dataframe\">\n",
              "  <thead>\n",
              "    <tr style=\"text-align: right;\">\n",
              "      <th></th>\n",
              "      <th>Ad 1</th>\n",
              "      <th>Ad 2</th>\n",
              "      <th>Ad 3</th>\n",
              "      <th>Ad 4</th>\n",
              "      <th>Ad 5</th>\n",
              "      <th>Ad 6</th>\n",
              "      <th>Ad 7</th>\n",
              "      <th>Ad 8</th>\n",
              "      <th>Ad 9</th>\n",
              "      <th>Ad 10</th>\n",
              "    </tr>\n",
              "  </thead>\n",
              "  <tbody>\n",
              "    <tr>\n",
              "      <th>0</th>\n",
              "      <td>1</td>\n",
              "      <td>0</td>\n",
              "      <td>0</td>\n",
              "      <td>0</td>\n",
              "      <td>1</td>\n",
              "      <td>0</td>\n",
              "      <td>0</td>\n",
              "      <td>0</td>\n",
              "      <td>1</td>\n",
              "      <td>0</td>\n",
              "    </tr>\n",
              "    <tr>\n",
              "      <th>1</th>\n",
              "      <td>0</td>\n",
              "      <td>0</td>\n",
              "      <td>0</td>\n",
              "      <td>0</td>\n",
              "      <td>0</td>\n",
              "      <td>0</td>\n",
              "      <td>0</td>\n",
              "      <td>0</td>\n",
              "      <td>1</td>\n",
              "      <td>0</td>\n",
              "    </tr>\n",
              "    <tr>\n",
              "      <th>2</th>\n",
              "      <td>0</td>\n",
              "      <td>0</td>\n",
              "      <td>0</td>\n",
              "      <td>0</td>\n",
              "      <td>0</td>\n",
              "      <td>0</td>\n",
              "      <td>0</td>\n",
              "      <td>0</td>\n",
              "      <td>0</td>\n",
              "      <td>0</td>\n",
              "    </tr>\n",
              "    <tr>\n",
              "      <th>3</th>\n",
              "      <td>0</td>\n",
              "      <td>1</td>\n",
              "      <td>0</td>\n",
              "      <td>0</td>\n",
              "      <td>0</td>\n",
              "      <td>0</td>\n",
              "      <td>0</td>\n",
              "      <td>1</td>\n",
              "      <td>0</td>\n",
              "      <td>0</td>\n",
              "    </tr>\n",
              "    <tr>\n",
              "      <th>4</th>\n",
              "      <td>0</td>\n",
              "      <td>0</td>\n",
              "      <td>0</td>\n",
              "      <td>0</td>\n",
              "      <td>0</td>\n",
              "      <td>0</td>\n",
              "      <td>0</td>\n",
              "      <td>0</td>\n",
              "      <td>0</td>\n",
              "      <td>0</td>\n",
              "    </tr>\n",
              "  </tbody>\n",
              "</table>\n",
              "</div>\n",
              "      <button class=\"colab-df-convert\" onclick=\"convertToInteractive('df-9142564a-6672-4766-9251-5cf3079ce1f8')\"\n",
              "              title=\"Convert this dataframe to an interactive table.\"\n",
              "              style=\"display:none;\">\n",
              "        \n",
              "  <svg xmlns=\"http://www.w3.org/2000/svg\" height=\"24px\"viewBox=\"0 0 24 24\"\n",
              "       width=\"24px\">\n",
              "    <path d=\"M0 0h24v24H0V0z\" fill=\"none\"/>\n",
              "    <path d=\"M18.56 5.44l.94 2.06.94-2.06 2.06-.94-2.06-.94-.94-2.06-.94 2.06-2.06.94zm-11 1L8.5 8.5l.94-2.06 2.06-.94-2.06-.94L8.5 2.5l-.94 2.06-2.06.94zm10 10l.94 2.06.94-2.06 2.06-.94-2.06-.94-.94-2.06-.94 2.06-2.06.94z\"/><path d=\"M17.41 7.96l-1.37-1.37c-.4-.4-.92-.59-1.43-.59-.52 0-1.04.2-1.43.59L10.3 9.45l-7.72 7.72c-.78.78-.78 2.05 0 2.83L4 21.41c.39.39.9.59 1.41.59.51 0 1.02-.2 1.41-.59l7.78-7.78 2.81-2.81c.8-.78.8-2.07 0-2.86zM5.41 20L4 18.59l7.72-7.72 1.47 1.35L5.41 20z\"/>\n",
              "  </svg>\n",
              "      </button>\n",
              "      \n",
              "  <style>\n",
              "    .colab-df-container {\n",
              "      display:flex;\n",
              "      flex-wrap:wrap;\n",
              "      gap: 12px;\n",
              "    }\n",
              "\n",
              "    .colab-df-convert {\n",
              "      background-color: #E8F0FE;\n",
              "      border: none;\n",
              "      border-radius: 50%;\n",
              "      cursor: pointer;\n",
              "      display: none;\n",
              "      fill: #1967D2;\n",
              "      height: 32px;\n",
              "      padding: 0 0 0 0;\n",
              "      width: 32px;\n",
              "    }\n",
              "\n",
              "    .colab-df-convert:hover {\n",
              "      background-color: #E2EBFA;\n",
              "      box-shadow: 0px 1px 2px rgba(60, 64, 67, 0.3), 0px 1px 3px 1px rgba(60, 64, 67, 0.15);\n",
              "      fill: #174EA6;\n",
              "    }\n",
              "\n",
              "    [theme=dark] .colab-df-convert {\n",
              "      background-color: #3B4455;\n",
              "      fill: #D2E3FC;\n",
              "    }\n",
              "\n",
              "    [theme=dark] .colab-df-convert:hover {\n",
              "      background-color: #434B5C;\n",
              "      box-shadow: 0px 1px 3px 1px rgba(0, 0, 0, 0.15);\n",
              "      filter: drop-shadow(0px 1px 2px rgba(0, 0, 0, 0.3));\n",
              "      fill: #FFFFFF;\n",
              "    }\n",
              "  </style>\n",
              "\n",
              "      <script>\n",
              "        const buttonEl =\n",
              "          document.querySelector('#df-9142564a-6672-4766-9251-5cf3079ce1f8 button.colab-df-convert');\n",
              "        buttonEl.style.display =\n",
              "          google.colab.kernel.accessAllowed ? 'block' : 'none';\n",
              "\n",
              "        async function convertToInteractive(key) {\n",
              "          const element = document.querySelector('#df-9142564a-6672-4766-9251-5cf3079ce1f8');\n",
              "          const dataTable =\n",
              "            await google.colab.kernel.invokeFunction('convertToInteractive',\n",
              "                                                     [key], {});\n",
              "          if (!dataTable) return;\n",
              "\n",
              "          const docLinkHtml = 'Like what you see? Visit the ' +\n",
              "            '<a target=\"_blank\" href=https://colab.research.google.com/notebooks/data_table.ipynb>data table notebook</a>'\n",
              "            + ' to learn more about interactive tables.';\n",
              "          element.innerHTML = '';\n",
              "          dataTable['output_type'] = 'display_data';\n",
              "          await google.colab.output.renderOutput(dataTable, element);\n",
              "          const docLink = document.createElement('div');\n",
              "          docLink.innerHTML = docLinkHtml;\n",
              "          element.appendChild(docLink);\n",
              "        }\n",
              "      </script>\n",
              "    </div>\n",
              "  </div>\n",
              "  "
            ]
          },
          "metadata": {},
          "execution_count": 3
        }
      ],
      "source": [
        "import numpy as np\n",
        "import matplotlib.pyplot as plt\n",
        "import pandas as pd\n",
        "import math\n",
        "\n",
        "# Importing dataset\n",
        "df = pd.read_csv('Ads_Optimisation.csv')\n",
        "\n",
        "# displaying top 5 rows\n",
        "df.head()"
      ]
    },
    {
      "cell_type": "code",
      "source": [
        "# displaying info of the dataset\n",
        "df.info()"
      ],
      "metadata": {
        "colab": {
          "base_uri": "https://localhost:8080/"
        },
        "id": "XL5vGAmxIQXy",
        "outputId": "4ba379e4-1685-4f06-ab79-a9376c43cdc5"
      },
      "execution_count": null,
      "outputs": [
        {
          "output_type": "stream",
          "name": "stdout",
          "text": [
            "<class 'pandas.core.frame.DataFrame'>\n",
            "RangeIndex: 10000 entries, 0 to 9999\n",
            "Data columns (total 10 columns):\n",
            " #   Column  Non-Null Count  Dtype\n",
            "---  ------  --------------  -----\n",
            " 0   Ad 1    10000 non-null  int64\n",
            " 1   Ad 2    10000 non-null  int64\n",
            " 2   Ad 3    10000 non-null  int64\n",
            " 3   Ad 4    10000 non-null  int64\n",
            " 4   Ad 5    10000 non-null  int64\n",
            " 5   Ad 6    10000 non-null  int64\n",
            " 6   Ad 7    10000 non-null  int64\n",
            " 7   Ad 8    10000 non-null  int64\n",
            " 8   Ad 9    10000 non-null  int64\n",
            " 9   Ad 10   10000 non-null  int64\n",
            "dtypes: int64(10)\n",
            "memory usage: 781.4 KB\n"
          ]
        }
      ]
    },
    {
      "cell_type": "code",
      "source": [
        "# checking the size of dataset\n",
        "print(\"Size of dataset: \",df.shape)\n",
        "\n",
        "# changing the size to given number of time steps\n",
        "df = df[0:2000]\n",
        "print(\"Size after slicing: \",df.shape)"
      ],
      "metadata": {
        "colab": {
          "base_uri": "https://localhost:8080/"
        },
        "id": "seDMcSUtLdtb",
        "outputId": "cd7137a5-ba58-41b1-ddf1-9f9e9a10c528"
      },
      "execution_count": null,
      "outputs": [
        {
          "output_type": "stream",
          "name": "stdout",
          "text": [
            "Size of dataset:  (10000, 10)\n",
            "Size after slicing:  (2000, 10)\n"
          ]
        }
      ]
    },
    {
      "cell_type": "markdown",
      "source": [
        "#### **A. Write down the MAB agent problem formulation in your own words**\n",
        "Based on the given problem statement, we can understand the goal of the advertising company is to maximise revenue from displaying ads. So we can define a MAB agent whose goal is to try to maximize the total no. of clicks on a particular ad**(total rewards)** by selecting which ad to display at each time step based on given past Ad-clicks data. \n",
        "\n",
        "* As each Ad has an unknown distribution of rewards(no. of clicks), the challenge for the MAB agent is to balance exploration (trying out different ads to gather more information) and exploitation (selecting the ad that is most likely to be clicked based on the current knowledge) to maximize the total no. of Ad-clicks over time. The problem formulation involves selecting an appropriate MAB algorithm that can balance exploration and exploitation effectively and can adapt to the changing ad-click patterns over time.\n",
        " \n",
        "* The MAB agent must balance this trade-off to efficiently maximize its cumulative reward while minimizing regret (the difference between the total reward obtained and the maximum possible reward).\n",
        "\n",
        "#### **B. Compute the total rewards after 2000-time steps using the ε-greedy action for:** \n",
        "a) ε=0.01\n",
        "\n",
        "b) ε= 0.3"
      ],
      "metadata": {
        "id": "uCS64O89G2dy"
      }
    },
    {
      "cell_type": "code",
      "source": [
        "'''\n",
        "    Using the epsilon-greedy approach for computing total_rewards.\n",
        "'''\n",
        "num_ads = 10 # total no. of ads in given data\n",
        "num_rounds = 2000 # given time-steps\n",
        "\n",
        "ads_selected = []\n",
        "total_rewards = 0\n",
        "num_selections = np.zeros(num_ads)\n",
        "sum_rewards = np.zeros(num_ads)\n",
        "\n",
        "# using a loop for computing using both epsilon values\n",
        "epsilons = [0.01, 0.3]\n",
        "\n",
        "for eps in epsilons:\n",
        "  print(\"\\nComputing rewards using epsilon = \",eps,\"\\n\")\n",
        "  for n in range(num_rounds):\n",
        "\n",
        "    # if random value is greater than epsilon, select ad with highest estimate value\n",
        "    if np.random.random() > eps:   \n",
        "      ad = np.argmax(sum_rewards / (num_selections + 1))    \n",
        "    else:\n",
        "      # else select random ad\n",
        "      ad = np.random.randint(num_ads)     # random selection\n",
        "    \n",
        "    # calculating reward for selected ad based on given dataset\n",
        "    ads_selected.append(ad)\n",
        "    reward = df.values[n, ad]\n",
        "    total_rewards += reward\n",
        "    num_selections[ad] += 1\n",
        "    sum_rewards[ad] += reward\n",
        "    if n % 100 == 0:\n",
        "      print(f\"Selected ad for round {n}: {ad} (Epsilon={eps})\")\n",
        "\n",
        "  print(f\"\\nTotal reward for epsilon={eps}: {total_rewards}\")\n",
        "  print(\"------------------------------------------------------------------\")\n",
        "\n"
      ],
      "metadata": {
        "colab": {
          "base_uri": "https://localhost:8080/"
        },
        "id": "lKm7GXxFSb7A",
        "outputId": "c254cd45-756d-4d8b-b25f-32cdd793670f"
      },
      "execution_count": null,
      "outputs": [
        {
          "output_type": "stream",
          "name": "stdout",
          "text": [
            "\n",
            "Computing rewards using epsilon =  0.01 \n",
            "\n",
            "Selected ad for round 0: 0 (Epsilon=0.01)\n",
            "Selected ad for round 100: 0 (Epsilon=0.01)\n",
            "Selected ad for round 200: 0 (Epsilon=0.01)\n",
            "Selected ad for round 300: 0 (Epsilon=0.01)\n",
            "Selected ad for round 400: 0 (Epsilon=0.01)\n",
            "Selected ad for round 500: 0 (Epsilon=0.01)\n",
            "Selected ad for round 600: 0 (Epsilon=0.01)\n",
            "Selected ad for round 700: 0 (Epsilon=0.01)\n",
            "Selected ad for round 800: 0 (Epsilon=0.01)\n",
            "Selected ad for round 900: 0 (Epsilon=0.01)\n",
            "Selected ad for round 1000: 0 (Epsilon=0.01)\n",
            "Selected ad for round 1100: 0 (Epsilon=0.01)\n",
            "Selected ad for round 1200: 0 (Epsilon=0.01)\n",
            "Selected ad for round 1300: 0 (Epsilon=0.01)\n",
            "Selected ad for round 1400: 0 (Epsilon=0.01)\n",
            "Selected ad for round 1500: 0 (Epsilon=0.01)\n",
            "Selected ad for round 1600: 0 (Epsilon=0.01)\n",
            "Selected ad for round 1700: 0 (Epsilon=0.01)\n",
            "Selected ad for round 1800: 0 (Epsilon=0.01)\n",
            "Selected ad for round 1900: 0 (Epsilon=0.01)\n",
            "\n",
            "Total reward for epsilon=0.01: 341\n",
            "------------------------------------------------------------------\n",
            "\n",
            "Computing rewards using epsilon =  0.3 \n",
            "\n",
            "Selected ad for round 0: 5 (Epsilon=0.3)\n",
            "Selected ad for round 100: 4 (Epsilon=0.3)\n",
            "Selected ad for round 200: 4 (Epsilon=0.3)\n",
            "Selected ad for round 300: 4 (Epsilon=0.3)\n",
            "Selected ad for round 400: 4 (Epsilon=0.3)\n",
            "Selected ad for round 500: 0 (Epsilon=0.3)\n",
            "Selected ad for round 600: 4 (Epsilon=0.3)\n",
            "Selected ad for round 700: 0 (Epsilon=0.3)\n",
            "Selected ad for round 800: 4 (Epsilon=0.3)\n",
            "Selected ad for round 900: 4 (Epsilon=0.3)\n",
            "Selected ad for round 1000: 0 (Epsilon=0.3)\n",
            "Selected ad for round 1100: 8 (Epsilon=0.3)\n",
            "Selected ad for round 1200: 7 (Epsilon=0.3)\n",
            "Selected ad for round 1300: 4 (Epsilon=0.3)\n",
            "Selected ad for round 1400: 4 (Epsilon=0.3)\n",
            "Selected ad for round 1500: 7 (Epsilon=0.3)\n",
            "Selected ad for round 1600: 4 (Epsilon=0.3)\n",
            "Selected ad for round 1700: 7 (Epsilon=0.3)\n",
            "Selected ad for round 1800: 4 (Epsilon=0.3)\n",
            "Selected ad for round 1900: 4 (Epsilon=0.3)\n",
            "\n",
            "Total reward for epsilon=0.3: 793\n",
            "------------------------------------------------------------------\n"
          ]
        }
      ]
    },
    {
      "cell_type": "markdown",
      "source": [
        "#### **C. Compute the total rewards after 2000-time steps using the Upper-Confidence-Bound action method for c= 1.5**\n",
        "(UCB is the most widely used solution method for multi-armed bandit problems. This algorithm is based on the principle of optimism in the face of uncertainty.\n",
        "In other words, the more uncertain we are about an arm, the more important it becomes to explore that arm.\n",
        "\n",
        "UCB says that we should choose an Ad 1 and receive a reward making us less uncertain about its action-value. For the timestep, if we still are very uncertain about Ad 1, we will choose it again until the uncertainty is reduced below a threshold.)"
      ],
      "metadata": {
        "id": "arj90iS8FrDx"
      }
    },
    {
      "cell_type": "code",
      "source": [
        "'''\n",
        "    Using the UCB action method to compute the rewards\n",
        "'''\n",
        "num_ads = 10 # total no. of ads in given data\n",
        "num_rounds = 2000 # total time-steps\n",
        "\n",
        "ads_selected = []\n",
        "total_rewards = 0\n",
        "num_selections = np.zeros(num_ads)\n",
        "sum_rewards = np.zeros(num_ads)\n",
        "\n",
        "# given exploration parameter c\n",
        "c = 1.5\n",
        "\n",
        "for n in range(num_rounds):\n",
        "    # select ad using UCB action method\n",
        "    ad = 0\n",
        "    max_upper_bound = 0\n",
        "    for i in range(num_ads):\n",
        "        if num_selections[i] > 0:\n",
        "            average_reward = sum_rewards[i] / num_selections[i]\n",
        "            delta_i = np.sqrt(2 * np.log(n+1) / num_selections[i])\n",
        "            upper_bound = average_reward + c * delta_i\n",
        "        else:\n",
        "            upper_bound = 1e400\n",
        "        if upper_bound > max_upper_bound:\n",
        "            max_upper_bound = upper_bound\n",
        "            ad = i\n",
        "\n",
        "    ads_selected.append(ad)\n",
        "\n",
        "    reward = df.values[n, ad]\n",
        "    total_rewards += reward\n",
        "    num_selections[ad] += 1\n",
        "    sum_rewards[ad] += reward\n",
        "    \n",
        "\n",
        "print(f\"Total reward for c={c}: {total_rewards}\")\n",
        "print(\"\\nAds selected by UCB method:\")\n",
        "print(ads_selected)"
      ],
      "metadata": {
        "colab": {
          "base_uri": "https://localhost:8080/"
        },
        "id": "ejVypXgETift",
        "outputId": "4f86f366-91f3-46e6-8366-bc9c4df77a48"
      },
      "execution_count": null,
      "outputs": [
        {
          "output_type": "stream",
          "name": "stdout",
          "text": [
            "Total reward for c=1.5: 290\n",
            "\n",
            "Ads selected by UCB method:\n",
            "[0, 1, 2, 3, 4, 5, 6, 7, 8, 9, 0, 1, 2, 3, 4, 5, 6, 7, 8, 9, 0, 1, 2, 3, 4, 5, 6, 7, 8, 9, 0, 4, 0, 1, 2, 3, 5, 6, 7, 8, 9, 4, 0, 4, 4, 1, 2, 3, 5, 6, 7, 8, 9, 7, 0, 4, 7, 1, 2, 3, 5, 6, 8, 9, 0, 4, 0, 7, 4, 1, 2, 3, 5, 6, 8, 9, 4, 0, 7, 1, 2, 3, 5, 6, 8, 9, 4, 0, 7, 7, 7, 1, 2, 3, 5, 6, 8, 8, 9, 4, 4, 7, 0, 0, 8, 1, 1, 2, 3, 5, 6, 9, 4, 0, 7, 1, 8, 8, 2, 3, 5, 6, 9, 4, 0, 0, 7, 8, 1, 0, 4, 4, 2, 3, 5, 6, 9, 7, 8, 4, 1, 1, 0, 7, 2, 3, 5, 6, 9, 1, 1, 8, 4, 0, 1, 1, 1, 7, 2, 2, 3, 5, 6, 9, 8, 1, 4, 0, 2, 7, 1, 4, 3, 5, 6, 9, 8, 0, 2, 7, 1, 4, 8, 3, 5, 6, 9, 0, 2, 7, 7, 1, 4, 8, 0, 7, 3, 5, 5, 6, 9, 2, 5, 1, 4, 0, 8, 7, 7, 3, 6, 9, 1, 4, 7, 2, 5, 0, 8, 3, 6, 6, 9, 1, 4, 7, 2, 5, 6, 0, 8, 1, 4, 7, 7, 3, 9, 2, 5, 6, 7, 0, 8, 1, 4, 3, 9, 7, 7, 2, 5, 6, 0, 8, 7, 1, 4, 3, 9, 0, 0, 2, 5, 6, 6, 7, 6, 8, 0, 1, 4, 3, 9, 7, 2, 5, 0, 1, 4, 6, 8, 7, 3, 9, 2, 5, 0, 1, 4, 6, 6, 8, 6, 6, 6, 7, 3, 9, 0, 1, 4, 2, 5, 8, 7, 7, 6, 7, 0, 1, 4, 3, 9, 2, 2, 5, 2, 8, 8, 8, 6, 7, 0, 1, 4, 3, 9, 9, 5, 9, 2, 8, 6, 7, 0, 0, 1, 4, 4, 0, 4, 3, 5, 9, 2, 8, 7, 6, 1, 0, 4, 5, 9, 3, 3, 3, 3, 2, 2, 3, 7, 7, 2, 8, 6, 7, 1, 0, 0, 4, 0, 5, 9, 3, 2, 8, 6, 7, 1, 4, 4, 0, 4, 4, 4, 3, 7, 7, 5, 9, 2, 8, 6, 1, 7, 0, 4, 3, 2, 8, 7, 7, 7, 7, 7, 7, 7, 5, 9, 6, 7, 7, 1, 7, 0, 4, 4, 4, 4, 4, 4, 2, 8, 3, 6, 5, 9, 4, 1, 7, 0, 7, 7, 4, 2, 8, 6, 6, 3, 1, 1, 6, 1, 5, 9, 7, 0, 0, 0, 0, 0, 0, 0, 4, 7, 7, 6, 2, 8, 8, 8, 1, 3, 7, 5, 9, 0, 0, 0, 0, 4, 4, 0, 4, 4, 7, 4, 4, 6, 8, 1, 2, 3, 4, 5, 9, 0, 7, 4, 6, 1, 8, 2, 3, 5, 9, 7, 0, 4, 1, 6, 8, 2, 7, 3, 0, 5, 9, 4, 4, 4, 4, 4, 1, 6, 8, 7, 2, 0, 3, 5, 9, 4, 7, 7, 1, 6, 7, 8, 0, 2, 3, 4, 5, 9, 7, 1, 0, 6, 8, 2, 4, 3, 7, 5, 9, 9, 9, 0, 1, 6, 8, 4, 4, 4, 2, 7, 3, 9, 0, 1, 5, 6, 4, 7, 8, 2, 0, 3, 9, 4, 1, 7, 5, 6, 8, 2, 0, 4, 7, 3, 9, 1, 6, 5, 8, 0, 0, 0, 4, 4, 4, 4, 2, 7, 4, 3, 9, 1, 6, 0, 5, 8, 7, 4, 4, 4, 2, 1, 3, 9, 6, 0, 7, 4, 4, 4, 8, 5, 2, 1, 7, 0, 3, 9, 9, 9, 6, 4, 8, 5, 2, 9, 7, 7, 7, 1, 4, 0, 3, 6, 8, 5, 7, 4, 0, 0, 0, 0, 0, 0, 0, 0, 0, 0, 0, 2, 9, 1, 6, 3, 3, 3, 3, 3, 7, 0, 4, 3, 8, 8, 8, 8, 8, 5, 2, 9, 1, 8, 6, 4, 7, 0, 3, 5, 1, 8, 2, 9, 4, 4, 4, 4, 4, 4, 4, 4, 7, 7, 7, 0, 4, 6, 3, 3, 3, 7, 4, 1, 8, 5, 0, 2, 9, 3, 6, 4, 7, 0, 1, 8, 8, 8, 8, 8, 5, 2, 9, 3, 6, 8, 4, 7, 0, 1, 4, 4, 4, 2, 9, 5, 7, 8, 3, 6, 0, 4, 1, 7, 2, 9, 0, 8, 5, 3, 6, 4, 4, 4, 4, 4, 7, 1, 0, 8, 2, 9, 4, 4, 4, 4, 4, 4, 4, 4, 4, 4, 4, 3, 6, 5, 7, 0, 1, 4, 8, 2, 9, 9, 9, 3, 6, 5, 7, 4, 0, 9, 1, 8, 7, 4, 3, 3, 3, 6, 2, 2, 2, 0, 5, 2, 9, 1, 3, 4, 7, 8, 0, 6, 6, 6, 5, 4, 7, 2, 2, 2, 9, 1, 3, 6, 8, 0, 2, 4, 7, 5, 1, 3, 6, 9, 0, 8, 4, 2, 7, 4, 0, 5, 1, 3, 6, 9, 8, 7, 2, 4, 0, 1, 3, 6, 8, 5, 9, 7, 7, 7, 4, 2, 0, 7, 4, 4, 4, 1, 1, 1, 1, 1, 3, 6, 1, 8, 9, 5, 0, 2, 4, 4, 4, 7, 1, 8, 3, 6, 9, 4, 0, 5, 7, 2, 4, 1, 1, 1, 8, 3, 6, 0, 9, 7, 7, 7, 5, 1, 4, 2, 7, 0, 8, 3, 6, 4, 4, 4, 4, 4, 9, 1, 5, 7, 7, 7, 2, 0, 4, 8, 8, 8, 3, 6, 7, 7, 7, 9, 1, 8, 4, 5, 0, 0, 0, 2, 7, 3, 6, 4, 0, 0, 0, 1, 8, 9, 7, 7, 7, 5, 2, 0, 0, 0, 4, 3, 6, 7, 7, 7, 7, 7, 7, 7, 7, 7, 7, 1, 8, 0, 9, 4, 2, 5, 7, 3, 6, 0, 4, 1, 8, 9, 7, 2, 5, 4, 0, 3, 6, 1, 8, 7, 9, 4, 0, 0, 0, 0, 0, 2, 5, 0, 3, 6, 7, 1, 8, 4, 9, 0, 2, 7, 4, 5, 3, 6, 1, 8, 9, 0, 0, 0, 4, 4, 4, 7, 2, 0, 3, 6, 1, 8, 4, 5, 7, 9, 4, 4, 4, 4, 4, 4, 4, 2, 0, 4, 1, 1, 1, 1, 1, 1, 8, 3, 6, 7, 5, 9, 0, 4, 1, 2, 7, 8, 8, 8, 3, 6, 5, 8, 8, 8, 4, 0, 7, 9, 1, 8, 2, 4, 3, 6, 0, 7, 5, 1, 1, 1, 1, 1, 1, 8, 4, 9, 2, 2, 2, 0, 2, 3, 6, 7, 4, 1, 1, 1, 1, 1, 1, 1, 1, 5, 8, 1, 9, 0, 7, 7, 7, 7, 7, 7, 7, 7, 7, 7, 7, 7, 7, 7, 7, 4, 2, 3, 6, 8, 1, 7, 5, 0, 0, 0, 4, 9, 0, 2, 3, 6, 7, 4, 1, 8, 5, 9, 0, 0, 0, 0, 0, 0, 0, 0, 7, 4, 4, 4, 2, 3, 3, 3, 6, 1, 3, 3, 3, 3, 3, 3, 8, 0, 4, 7, 5, 3, 9, 2, 6, 1, 1, 1, 0, 4, 4, 4, 4, 4, 4, 4, 4, 4, 4, 4, 4, 4, 4, 8, 7, 4, 4, 4, 1, 3, 5, 9, 4, 0, 0, 0, 2, 2, 2, 2, 2, 2, 2, 2, 2, 6, 7, 8, 1, 0, 4, 2, 3, 7, 7, 7, 7, 7, 9, 5, 7, 6, 8, 0, 4, 4, 4, 4, 4, 1, 4, 2, 3, 7, 9, 0, 5, 4, 6, 8, 1, 7, 2, 3, 0, 4, 4, 4, 9, 1, 8, 5, 6, 4, 4, 4, 7, 0, 2, 3, 4, 1, 1, 1, 1, 1, 1, 7, 8, 9, 6, 5, 4, 0, 1, 2, 2, 2, 3, 7, 2, 4, 4, 4, 4, 4, 4, 4, 4, 4, 4, 4, 4, 8, 0, 9, 6, 6, 6, 4, 4, 4, 6, 5, 7, 1, 3, 4, 4, 4, 2, 0, 8, 7, 7, 7, 4, 9, 6, 1, 5, 7, 7, 7, 7, 7, 3, 3, 3, 0, 7, 2, 3, 4, 8, 1, 9, 6, 4, 7, 0, 0, 0, 5, 2, 3, 3, 3, 0, 3, 8, 4, 7, 7, 7, 1, 9, 6, 7, 4, 0, 0, 0, 5, 2, 3, 8, 1, 0, 4, 7, 9, 6, 2, 0, 4, 4, 4, 5, 1, 3, 8, 7, 4, 4, 4, 6, 9, 0, 0, 0, 7, 4, 2, 1, 3, 8, 0, 0, 0, 0, 0, 0, 0, 0, 0, 0, 0, 0, 0, 0, 0, 0, 0, 0, 0, 0, 0, 0, 0, 5, 4, 4, 4, 4, 4, 4, 4, 4, 4, 4, 4, 4, 4, 4, 4, 4, 4, 4, 4, 4, 4, 4, 4, 4, 4, 4, 0, 7, 6, 9, 1, 2, 4, 3, 8, 5, 0, 7, 4, 6, 1, 9, 2, 3, 8, 4, 4, 4, 4, 4, 0, 7, 7, 7, 4, 5, 7, 1, 6, 0, 4, 4, 4, 4, 4, 2, 9, 3, 8, 4, 7, 0, 0, 0, 0, 0, 5, 0, 1, 4, 6, 7, 2, 3, 8, 8, 8, 9, 9, 9, 9, 8, 4, 0, 1, 7, 7, 7, 5, 4, 6, 2, 9, 0, 7, 3, 8, 4, 1, 0, 7, 5, 4, 6, 2, 2, 2, 2, 3, 9, 8, 1, 0, 7, 7, 7, 4, 7, 6, 5, 2, 3, 3, 3, 4, 4, 4, 4, 4, 3, 8, 9, 0, 1, 4, 4, 4, 4, 4, 4, 4, 4, 7, 4, 0, 2, 6, 3, 8, 1, 5, 9, 7, 4, 0, 0, 0, 4, 0, 0, 0, 7, 2, 1, 3, 3, 3, 3, 3, 3, 8, 6, 3, 5, 0, 9, 4, 7, 1, 0, 2, 8, 4, 4, 4, 6, 3, 7, 9, 5, 4, 0, 1, 4, 4, 4, 4, 4, 4, 4, 4, 2, 2, 2, 2, 8, 7, 3, 3, 3, 3, 3, 3, 6, 3, 0, 9, 4, 5, 1, 7, 2, 8, 4, 0, 6, 6, 6, 6, 3, 7, 7, 7, 9, 4, 4, 4, 1, 5, 0, 7, 4, 2, 8, 6, 3, 4, 4, 4, 1, 1, 1, 0, 7, 9, 1, 5, 4, 2, 8, 3, 6, 0, 7, 4, 4, 4, 1, 1, 1, 4, 4, 4, 4, 4, 9, 1, 4, 5, 2, 8, 0, 0, 0, 0, 0, 0, 7, 7, 7, 7, 7, 7, 7, 7, 3, 6, 7, 4, 0, 1, 9, 4, 4, 4, 7, 2, 8, 3, 5, 4, 6, 0, 1, 7, 7, 7, 4, 4, 4, 4, 4, 9, 4, 4, 4, 7, 7, 7, 2, 8, 3, 0, 5, 7, 4, 4, 4, 6, 1, 4, 0, 7, 7, 7, 7, 7, 7, 7, 7, 3, 2, 8, 9, 4, 7, 1, 6, 5, 0, 4, 7, 7, 7, 7, 7, 7, 7, 7, 7, 7, 7, 3, 3, 3, 3, 2, 8, 9, 4, 0, 1, 7, 6, 5, 4, 3, 0, 2, 8, 7, 9, 1, 4, 6, 0, 7, 5, 4, 3, 2, 8, 1, 1, 1, 1, 1, 1, 9, 1, 4, 7, 0, 6, 3, 4, 5, 2, 8, 7, 0, 1, 9, 4, 6, 7, 3, 0, 4, 2, 8, 5, 1, 7, 9, 4, 0, 6, 3, 1, 1, 1, 2, 8, 4, 1, 1, 1, 7, 1, 5, 0, 4, 9, 3, 6, 7, 2, 8, 1, 0, 4, 5, 7, 4, 3, 3, 3, 3, 9, 0, 6, 1, 2, 8, 8, 8, 8, 7, 4, 0, 3, 5, 4, 4, 4, 7, 1, 9, 6, 8, 4, 2, 0, 7, 7, 7, 7, 7, 7, 3, 4, 1, 5, 9, 8, 6, 7, 0, 0, 0, 0, 0, 0, 0, 0, 0, 2, 4, 4, 4, 4, 3, 1, 1, 1, 0, 1, 7, 5]\n"
          ]
        }
      ]
    },
    {
      "cell_type": "code",
      "source": [
        "# Visualising the results\n",
        "\n",
        "plt.hist(ads_selected, color = 'orange')\n",
        "plt.title('\\nVizualising freuency of each Ad\\n')\n",
        "plt.xlabel('Ads')\n",
        "plt.ylabel('Number of times each ad was clicked')"
      ],
      "metadata": {
        "id": "Zv9ymCxbvsUq",
        "colab": {
          "base_uri": "https://localhost:8080/",
          "height": 342
        },
        "outputId": "8cc67c69-f93b-4859-8e2d-c3b1d90e4ae0"
      },
      "execution_count": null,
      "outputs": [
        {
          "output_type": "execute_result",
          "data": {
            "text/plain": [
              "Text(0, 0.5, 'Number of times each ad was clicked')"
            ]
          },
          "metadata": {},
          "execution_count": 25
        },
        {
          "output_type": "display_data",
          "data": {
            "text/plain": [
              "<Figure size 432x288 with 1 Axes>"
            ],
            "image/png": "[encoded data removed]"
          },
          "metadata": {
            "needs_background": "light"
          }
        }
      ]
    },
    {
      "cell_type": "markdown",
      "source": [
        "#### **D. For all approaches, explain how the action value estimated compares to the optimal action.**\n",
        "\n",
        "In **Epsilon-greedy action** method, we select a \n",
        "- ***random action*** with probability ***epsilon***(given value) and \n",
        "-  ***action with highest estimated value*** with probability ***(1 - epsilon)***.\n",
        "\n",
        "B.a) When **epsilon = 0.01**, it means that the agent selects the action with the highest estimated value with 99% probability. Hence, the action value estimated will be very close to the optimal action value.\n",
        "\n",
        "B.b) When epsilon = 0.3, it means that the agent will explore more often by selecting a random action with probability 0.3. With this approach, the action value estimated may not be as close to the optimal action value as compared to the above approach because the algorithm is more likely to select a sub-optimal action.\n",
        "\n",
        "C. When using the **Upper Confidence bound action method with c = 1.5**, the agent selects the action with the highest UCB value, which balances exploration and exploitation. The value of c determines the extent of exploration. As the value of c is relatively high (1.5), the agent is more likely to explore suboptimal actions. Therefore, the action value estimated may not be as close to the optimal action value as in Approach B.a."
      ],
      "metadata": {
        "id": "1JTot4RCuTp5"
      }
    },
    {
      "cell_type": "markdown",
      "source": [
        "## **Conclusion:**\n",
        "Approach **B.a** is expected to have the estimated action value closest to the optimal action value, while the other two approaches may have a larger difference from the optimal action value due to their higher tendency to explore suboptimal actions."
      ],
      "metadata": {
        "id": "VG7JGg1uwxWH"
      }
    },
    {
      "cell_type": "code",
      "source": [],
      "metadata": {
        "id": "UToTFYfRxahv"
      },
      "execution_count": null,
      "outputs": []
    }
  ]
}