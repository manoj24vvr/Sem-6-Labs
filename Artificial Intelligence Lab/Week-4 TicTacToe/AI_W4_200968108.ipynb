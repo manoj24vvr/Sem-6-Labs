{
  "nbformat": 4,
  "nbformat_minor": 0,
  "metadata": {
    "colab": {
      "provenance": []
    },
    "kernelspec": {
      "name": "python3",
      "display_name": "Python 3"
    },
    "language_info": {
      "name": "python"
    }
  },
  "cells": [
    {
      "cell_type": "markdown",
      "source": [
        "### **Week-4:** Gaming Agent & Negamax search\n",
        "### **Name:** Atyam V V R Manoj\n",
        "### **Reg No. | Sec :** 200968108 | DSE-A 27"
      ],
      "metadata": {
        "id": "T785_nAcK2CF"
      }
    },
    {
      "cell_type": "markdown",
      "source": [
        "*Installing required libraries*"
      ],
      "metadata": {
        "id": "Cs6_RrDmMZwZ"
      }
    },
    {
      "cell_type": "code",
      "source": [
        "!pip install easyAI"
      ],
      "metadata": {
        "colab": {
          "base_uri": "https://localhost:8080/"
        },
        "id": "Q_5c-jbgNFWz",
        "outputId": "846a617c-2e94-4791-bc0c-981788b0fa31"
      },
      "execution_count": null,
      "outputs": [
        {
          "output_type": "stream",
          "name": "stdout",
          "text": [
            "Looking in indexes: https://pypi.org/simple, https://us-python.pkg.dev/colab-wheels/public/simple/\n",
            "Requirement already satisfied: easyAI in /usr/local/lib/python3.8/dist-packages (2.0.12)\n",
            "Requirement already satisfied: numpy in /usr/local/lib/python3.8/dist-packages (from easyAI) (1.22.4)\n"
          ]
        }
      ]
    },
    {
      "cell_type": "markdown",
      "source": [
        "EasyAI is an artificial intelligence framework for two-players abstract games.\n",
        "http://zulko.github.io/easyAI/index.html\n"
      ],
      "metadata": {
        "id": "ItEt3GkAwY3E"
      }
    },
    {
      "cell_type": "markdown",
      "source": [
        "*Importing required modules*"
      ],
      "metadata": {
        "id": "qK2YfRFbNyIW"
      }
    },
    {
      "cell_type": "code",
      "source": [
        "import easyAI\n",
        "from easyAI import TwoPlayerGame\n",
        "from easyAI.Player import Human_Player\n",
        "from easyAI import AI_Player, Negamax"
      ],
      "metadata": {
        "id": "o4ZKla0qN2mX"
      },
      "execution_count": null,
      "outputs": []
    },
    {
      "cell_type": "markdown",
      "source": [
        "We can use dir to get what parameters is in a object like next:"
      ],
      "metadata": {
        "id": "HVzlCXzSNja6"
      }
    },
    {
      "cell_type": "code",
      "source": [
        "dir(easyAI)"
      ],
      "metadata": {
        "colab": {
          "base_uri": "https://localhost:8080/"
        },
        "id": "gSRnKi-jpcxM",
        "outputId": "5f9252a3-660e-40b9-e764-1331dc82daea"
      },
      "execution_count": null,
      "outputs": [
        {
          "output_type": "execute_result",
          "data": {
            "text/plain": [
              "['AI',\n",
              " 'AI_Player',\n",
              " 'DUAL',\n",
              " 'DictTranspositionTable',\n",
              " 'HashTranspositionTable',\n",
              " 'Human_Player',\n",
              " 'Negamax',\n",
              " 'NonRecursiveNegamax',\n",
              " 'Player',\n",
              " 'SSS',\n",
              " 'TranspositionTable',\n",
              " 'TwoPlayerGame',\n",
              " '__all__',\n",
              " '__builtins__',\n",
              " '__cached__',\n",
              " '__doc__',\n",
              " '__file__',\n",
              " '__loader__',\n",
              " '__name__',\n",
              " '__package__',\n",
              " '__path__',\n",
              " '__spec__',\n",
              " 'mtd',\n",
              " 'solve_with_depth_first_search',\n",
              " 'solve_with_iterative_deepening']"
            ]
          },
          "metadata": {},
          "execution_count": 3
        }
      ]
    },
    {
      "cell_type": "markdown",
      "source": [
        "#### **Write a python program to define and implement a tic—tac-toe game with one human player.**\n"
      ],
      "metadata": {
        "id": "cKJT3TGtwi7V"
      }
    },
    {
      "cell_type": "code",
      "source": [
        "# craeting a sub-class of class easyAI.TowPlayerGame and defining some methods \n",
        "# to implement the Tic-Tac-Toe game.\n",
        "\n",
        "class TicTacToe( TwoPlayerGame ):\n",
        "  \"\"\" The board positions are numbered as follows:\n",
        "          7 8 9\n",
        "          4 5 6\n",
        "          1 2 3\n",
        "  \"\"\"    \n",
        "  # Initialising the game \n",
        "  def __init__(self, players):\n",
        "    self.players = players\n",
        "    self.board = [0 for i in range(9)]\n",
        "    self.current_player = 1 # player 1 starts.\n",
        "\n",
        "  #returns all the moves allowed\n",
        "  def possible_moves(self):\n",
        "    return [i+1 for i,e in enumerate(self.board) if e==0]\n",
        "\n",
        "  #transforms the game according to the move\n",
        "  def make_move(self, move):\n",
        "    self.board[int(move)-1] = self.current_player\n",
        "  \n",
        "  # allows to go back to previous state\n",
        "  def unmake_move(self, move): # optional method (speeds up the AI)\n",
        "    self.board[int(move)-1] = 0\n",
        "  \n",
        "  # checks if the opponent player has 3 in line\n",
        "  def lose(self):\n",
        "    return any(\n",
        "        [\n",
        "            all([(self.board[c-1]== self.opponent_index) for c in line])\n",
        "            for line in [\n",
        "                [1,2,3],\n",
        "                [4,5,6],\n",
        "                [7,8,9], # horiz.\n",
        "                [1,4,7],\n",
        "                [2,5,8],\n",
        "                [3,6,9], # vertical\n",
        "                [1,5,9],\n",
        "                [3,5,7]\n",
        "            ]\n",
        "        ]\n",
        "    ) # diagonal\n",
        "        \n",
        "  # verifies whether the game is terminated or not\n",
        "  def is_over(self):\n",
        "    return (self.possible_moves() == []) or self.lose()\n",
        "        \n",
        "  # displays the game\n",
        "  def show(self):\n",
        "    print ('\\n'+'\\n'.join([\n",
        "        ' '.join([['.','O','X'][self.board[3*j+i]] for i in range(3)])\n",
        "        for j in range(3)])\n",
        "     )\n",
        "\n",
        "  # gives a score to the current game     \n",
        "  def scoring(self):\n",
        "    return -100 if self.lose() else 0\n"
      ],
      "metadata": {
        "id": "YLndactGXRNY"
      },
      "execution_count": null,
      "outputs": []
    },
    {
      "cell_type": "code",
      "source": [
        "algo = Negamax(6)\n",
        "TicTacToe([Human_Player(), AI_Player(algo)]).play()"
      ],
      "metadata": {
        "colab": {
          "base_uri": "https://localhost:8080/"
        },
        "id": "5QkiUKxxpfKJ",
        "outputId": "4101933c-95fc-4f55-d52f-49a0d08db0ec"
      },
      "execution_count": null,
      "outputs": [
        {
          "output_type": "stream",
          "name": "stdout",
          "text": [
            "\n",
            ". . .\n",
            ". . .\n",
            ". . .\n",
            "\n",
            "Player 1 what do you play ? 5\n",
            "\n",
            "Move #1: player 1 plays 5 :\n",
            "\n",
            ". . .\n",
            ". O .\n",
            ". . .\n",
            "\n",
            "Move #2: player 2 plays 1 :\n",
            "\n",
            "X . .\n",
            ". O .\n",
            ". . .\n",
            "\n",
            "Player 1 what do you play ? 3\n",
            "\n",
            "Move #3: player 1 plays 3 :\n",
            "\n",
            "X . O\n",
            ". O .\n",
            ". . .\n",
            "\n",
            "Move #4: player 2 plays 7 :\n",
            "\n",
            "X . O\n",
            ". O .\n",
            "X . .\n",
            "\n",
            "Player 1 what do you play ? 4\n",
            "\n",
            "Move #5: player 1 plays 4 :\n",
            "\n",
            "X . O\n",
            "O O .\n",
            "X . .\n",
            "\n",
            "Move #6: player 2 plays 6 :\n",
            "\n",
            "X . O\n",
            "O O X\n",
            "X . .\n",
            "\n",
            "Player 1 what do you play ? 8\n",
            "\n",
            "Move #7: player 1 plays 8 :\n",
            "\n",
            "X . O\n",
            "O O X\n",
            "X O .\n",
            "\n",
            "Move #8: player 2 plays 2 :\n",
            "\n",
            "X X O\n",
            "O O X\n",
            "X O .\n",
            "\n",
            "Player 1 what do you play ? 9\n",
            "\n",
            "Move #9: player 1 plays 9 :\n",
            "\n",
            "X X O\n",
            "O O X\n",
            "X O O\n"
          ]
        },
        {
          "output_type": "execute_result",
          "data": {
            "text/plain": [
              "[(<__main__.TicTacToe at 0x7f06504cb3a0>, 5),\n",
              " (<__main__.TicTacToe at 0x7f06504cbf10>, 1),\n",
              " (<__main__.TicTacToe at 0x7f06504cbfa0>, 3),\n",
              " (<__main__.TicTacToe at 0x7f06504cb9d0>, 7),\n",
              " (<__main__.TicTacToe at 0x7f06504cb910>, 4),\n",
              " (<__main__.TicTacToe at 0x7f0650460220>, 6),\n",
              " (<__main__.TicTacToe at 0x7f06504cba00>, 8),\n",
              " (<__main__.TicTacToe at 0x7f0650460970>, 2),\n",
              " (<__main__.TicTacToe at 0x7f06504cb4c0>, 9),\n",
              " <__main__.TicTacToe at 0x7f06504605e0>]"
            ]
          },
          "metadata": {},
          "execution_count": 11
        }
      ]
    },
    {
      "cell_type": "markdown",
      "source": [
        "### **a. Solving using Iterative deepening**"
      ],
      "metadata": {
        "id": "tGokFT8nwDrf"
      }
    },
    {
      "cell_type": "code",
      "source": [
        "from easyAI import solve_with_iterative_deepening\n",
        "\n",
        "result_id, depth, move = solve_with_iterative_deepening(\n",
        "    game=TicTacToe([Human_Player(), AI_Player(algo)]),\n",
        "    ai_depths=range(2,20),\n",
        "    win_score=100\n",
        ")"
      ],
      "metadata": {
        "colab": {
          "base_uri": "https://localhost:8080/"
        },
        "id": "YSKM2csGwEa-",
        "outputId": "34485d27-c841-430d-e866-2c1d965d5da9"
      },
      "execution_count": null,
      "outputs": [
        {
          "output_type": "stream",
          "name": "stdout",
          "text": [
            "d:2, a:0, m:1\n",
            "d:3, a:0, m:1\n",
            "d:4, a:0, m:1\n",
            "d:5, a:0, m:1\n",
            "d:6, a:0, m:1\n",
            "d:7, a:0, m:1\n",
            "d:8, a:0, m:1\n",
            "d:9, a:0, m:1\n",
            "d:10, a:0, m:1\n",
            "d:11, a:0, m:1\n",
            "d:12, a:0, m:1\n",
            "d:13, a:0, m:1\n",
            "d:14, a:0, m:1\n",
            "d:15, a:0, m:1\n",
            "d:16, a:0, m:1\n",
            "d:17, a:0, m:1\n",
            "d:18, a:0, m:1\n",
            "d:19, a:0, m:1\n"
          ]
        }
      ]
    },
    {
      "cell_type": "code",
      "source": [
        "result_id"
      ],
      "metadata": {
        "colab": {
          "base_uri": "https://localhost:8080/"
        },
        "id": "2jYgf3rvw33w",
        "outputId": "897e752e-775e-468d-a3c2-c5d6a34986a3"
      },
      "execution_count": null,
      "outputs": [
        {
          "output_type": "execute_result",
          "data": {
            "text/plain": [
              "0"
            ]
          },
          "metadata": {},
          "execution_count": 16
        }
      ]
    },
    {
      "cell_type": "markdown",
      "source": [
        "#### **b. Solving using Depth first search**"
      ],
      "metadata": {
        "id": "l3lroU11wDtx"
      }
    },
    {
      "cell_type": "code",
      "source": [
        "from easyAI import solve_with_depth_first_search\n",
        "result_dfs = solve_with_depth_first_search(\n",
        "    game=TicTacToe([Human_Player(), AI_Player(algo)]),\n",
        "    win_score=100\n",
        ")"
      ],
      "metadata": {
        "id": "7ukPEufOvrPT"
      },
      "execution_count": null,
      "outputs": []
    },
    {
      "cell_type": "code",
      "source": [
        "result_dfs"
      ],
      "metadata": {
        "colab": {
          "base_uri": "https://localhost:8080/"
        },
        "id": "1NLJCZYNw-ch",
        "outputId": "7de0cb7c-6d80-4364-e60f-8a7711fd4829"
      },
      "execution_count": null,
      "outputs": [
        {
          "output_type": "execute_result",
          "data": {
            "text/plain": [
              "0"
            ]
          },
          "metadata": {},
          "execution_count": 18
        }
      ]
    },
    {
      "cell_type": "markdown",
      "source": [
        "### **Comaparison:** ***DFS vs Iterative Deepening***\n",
        "* Iterative Deepening algorithm gives us an optimal solution but DFS doesn't.\n",
        "* Iterative deepening always doesn't explore the entire graph unless the distance b/w start & end nodes is maximum, while DFS may does it.\n",
        "* ID has better ime complexity ans requires less memory."
      ],
      "metadata": {
        "id": "nR-1nfHUxGaW"
      }
    },
    {
      "cell_type": "markdown",
      "source": [
        "### **Conclusion:**\n",
        "Hence, solving the game using the functions decribed above can only return 3 values:\n",
        "1. 1: victory of player\n",
        "2. 0: can be either a draw or the search didn't reach enough depth\n",
        "3. -1: defeat of the player\n",
        "\n",
        "And we can always expect a draw when both the players are playing optimally."
      ],
      "metadata": {
        "id": "QTJrNoBby8RE"
      }
    }
  ]
}